{
 "cells": [
  {
   "cell_type": "code",
   "execution_count": 1,
   "metadata": {},
   "outputs": [
    {
     "name": "stderr",
     "output_type": "stream",
     "text": [
      "Using TensorFlow backend.\n"
     ]
    }
   ],
   "source": [
    "import pandas as pd\n",
    "import keras\n",
    "import tensorflow as tf\n",
    "from keras import backend as K\n",
    "from keras.models import Sequential\n",
    "from keras.layers import Dense, Dropout, Flatten, Input, Embedding, BatchNormalization, concatenate\n",
    "from keras.optimizers import Adam\n",
    "from keras.layers.merge import dot\n",
    "from keras.models import Model\n",
    "from sklearn.model_selection import train_test_split\n",
    "\n",
    "import matplotlib.pyplot as plt\n",
    "%matplotlib inline"
   ]
  },
  {
   "cell_type": "code",
   "execution_count": 2,
   "metadata": {},
   "outputs": [],
   "source": [
    "rating_data = pd.read_csv('final_data2.csv')"
   ]
  },
  {
   "cell_type": "code",
   "execution_count": 3,
   "metadata": {},
   "outputs": [
    {
     "data": {
      "text/html": [
       "<div>\n",
       "<style scoped>\n",
       "    .dataframe tbody tr th:only-of-type {\n",
       "        vertical-align: middle;\n",
       "    }\n",
       "\n",
       "    .dataframe tbody tr th {\n",
       "        vertical-align: top;\n",
       "    }\n",
       "\n",
       "    .dataframe thead th {\n",
       "        text-align: right;\n",
       "    }\n",
       "</style>\n",
       "<table border=\"1\" class=\"dataframe\">\n",
       "  <thead>\n",
       "    <tr style=\"text-align: right;\">\n",
       "      <th></th>\n",
       "      <th>Unnamed: 0</th>\n",
       "      <th>user_id</th>\n",
       "      <th>energy_consumption_perday</th>\n",
       "      <th>battery_id</th>\n",
       "      <th>rating</th>\n",
       "      <th>battery_brand</th>\n",
       "      <th>volume(kwh)</th>\n",
       "      <th>Price</th>\n",
       "    </tr>\n",
       "  </thead>\n",
       "  <tbody>\n",
       "    <tr>\n",
       "      <th>0</th>\n",
       "      <td>0</td>\n",
       "      <td>134</td>\n",
       "      <td>0.076942</td>\n",
       "      <td>27</td>\n",
       "      <td>3</td>\n",
       "      <td>Sonnen ECO2</td>\n",
       "      <td>0.536313</td>\n",
       "      <td>1250</td>\n",
       "    </tr>\n",
       "    <tr>\n",
       "      <th>1</th>\n",
       "      <td>1</td>\n",
       "      <td>42</td>\n",
       "      <td>0.059271</td>\n",
       "      <td>27</td>\n",
       "      <td>2</td>\n",
       "      <td>Sonnen ECO2</td>\n",
       "      <td>0.536313</td>\n",
       "      <td>1250</td>\n",
       "    </tr>\n",
       "    <tr>\n",
       "      <th>2</th>\n",
       "      <td>2</td>\n",
       "      <td>41</td>\n",
       "      <td>0.020238</td>\n",
       "      <td>27</td>\n",
       "      <td>1</td>\n",
       "      <td>Sonnen ECO2</td>\n",
       "      <td>0.536313</td>\n",
       "      <td>1250</td>\n",
       "    </tr>\n",
       "    <tr>\n",
       "      <th>3</th>\n",
       "      <td>3</td>\n",
       "      <td>120</td>\n",
       "      <td>0.080427</td>\n",
       "      <td>27</td>\n",
       "      <td>3</td>\n",
       "      <td>Sonnen ECO2</td>\n",
       "      <td>0.536313</td>\n",
       "      <td>1250</td>\n",
       "    </tr>\n",
       "    <tr>\n",
       "      <th>4</th>\n",
       "      <td>4</td>\n",
       "      <td>5</td>\n",
       "      <td>0.022503</td>\n",
       "      <td>27</td>\n",
       "      <td>1</td>\n",
       "      <td>Sonnen ECO2</td>\n",
       "      <td>0.536313</td>\n",
       "      <td>1250</td>\n",
       "    </tr>\n",
       "    <tr>\n",
       "      <th>...</th>\n",
       "      <td>...</td>\n",
       "      <td>...</td>\n",
       "      <td>...</td>\n",
       "      <td>...</td>\n",
       "      <td>...</td>\n",
       "      <td>...</td>\n",
       "      <td>...</td>\n",
       "      <td>...</td>\n",
       "    </tr>\n",
       "    <tr>\n",
       "      <th>603</th>\n",
       "      <td>603</td>\n",
       "      <td>127</td>\n",
       "      <td>0.125662</td>\n",
       "      <td>28</td>\n",
       "      <td>2</td>\n",
       "      <td>Pannasonic EverVolt1</td>\n",
       "      <td>0.184358</td>\n",
       "      <td>2220</td>\n",
       "    </tr>\n",
       "    <tr>\n",
       "      <th>604</th>\n",
       "      <td>604</td>\n",
       "      <td>81</td>\n",
       "      <td>0.110901</td>\n",
       "      <td>28</td>\n",
       "      <td>3</td>\n",
       "      <td>Pannasonic EverVolt1</td>\n",
       "      <td>0.184358</td>\n",
       "      <td>2220</td>\n",
       "    </tr>\n",
       "    <tr>\n",
       "      <th>605</th>\n",
       "      <td>605</td>\n",
       "      <td>121</td>\n",
       "      <td>0.117450</td>\n",
       "      <td>28</td>\n",
       "      <td>2</td>\n",
       "      <td>Pannasonic EverVolt1</td>\n",
       "      <td>0.184358</td>\n",
       "      <td>2220</td>\n",
       "    </tr>\n",
       "    <tr>\n",
       "      <th>606</th>\n",
       "      <td>606</td>\n",
       "      <td>108</td>\n",
       "      <td>0.121868</td>\n",
       "      <td>28</td>\n",
       "      <td>2</td>\n",
       "      <td>Pannasonic EverVolt1</td>\n",
       "      <td>0.184358</td>\n",
       "      <td>2220</td>\n",
       "    </tr>\n",
       "    <tr>\n",
       "      <th>607</th>\n",
       "      <td>607</td>\n",
       "      <td>133</td>\n",
       "      <td>0.945032</td>\n",
       "      <td>28</td>\n",
       "      <td>1</td>\n",
       "      <td>Pannasonic EverVolt1</td>\n",
       "      <td>0.184358</td>\n",
       "      <td>2220</td>\n",
       "    </tr>\n",
       "  </tbody>\n",
       "</table>\n",
       "<p>608 rows × 8 columns</p>\n",
       "</div>"
      ],
      "text/plain": [
       "     Unnamed: 0  user_id  energy_consumption_perday  battery_id  rating  \\\n",
       "0             0      134                   0.076942          27       3   \n",
       "1             1       42                   0.059271          27       2   \n",
       "2             2       41                   0.020238          27       1   \n",
       "3             3      120                   0.080427          27       3   \n",
       "4             4        5                   0.022503          27       1   \n",
       "..          ...      ...                        ...         ...     ...   \n",
       "603         603      127                   0.125662          28       2   \n",
       "604         604       81                   0.110901          28       3   \n",
       "605         605      121                   0.117450          28       2   \n",
       "606         606      108                   0.121868          28       2   \n",
       "607         607      133                   0.945032          28       1   \n",
       "\n",
       "            battery_brand  volume(kwh)  Price  \n",
       "0             Sonnen ECO2     0.536313   1250  \n",
       "1             Sonnen ECO2     0.536313   1250  \n",
       "2             Sonnen ECO2     0.536313   1250  \n",
       "3             Sonnen ECO2     0.536313   1250  \n",
       "4             Sonnen ECO2     0.536313   1250  \n",
       "..                    ...          ...    ...  \n",
       "603  Pannasonic EverVolt1     0.184358   2220  \n",
       "604  Pannasonic EverVolt1     0.184358   2220  \n",
       "605  Pannasonic EverVolt1     0.184358   2220  \n",
       "606  Pannasonic EverVolt1     0.184358   2220  \n",
       "607  Pannasonic EverVolt1     0.184358   2220  \n",
       "\n",
       "[608 rows x 8 columns]"
      ]
     },
     "execution_count": 3,
     "metadata": {},
     "output_type": "execute_result"
    }
   ],
   "source": [
    "rating_data"
   ]
  },
  {
   "cell_type": "code",
   "execution_count": 4,
   "metadata": {},
   "outputs": [],
   "source": [
    "rating_data['side_info_user'] = rating_data['energy_consumption_perday']"
   ]
  },
  {
   "cell_type": "code",
   "execution_count": 5,
   "metadata": {},
   "outputs": [],
   "source": [
    "from sklearn.utils import shuffle\n",
    "rating_data = shuffle(rating_data)"
   ]
  },
  {
   "cell_type": "code",
   "execution_count": 6,
   "metadata": {},
   "outputs": [
    {
     "data": {
      "text/html": [
       "<div>\n",
       "<style scoped>\n",
       "    .dataframe tbody tr th:only-of-type {\n",
       "        vertical-align: middle;\n",
       "    }\n",
       "\n",
       "    .dataframe tbody tr th {\n",
       "        vertical-align: top;\n",
       "    }\n",
       "\n",
       "    .dataframe thead th {\n",
       "        text-align: right;\n",
       "    }\n",
       "</style>\n",
       "<table border=\"1\" class=\"dataframe\">\n",
       "  <thead>\n",
       "    <tr style=\"text-align: right;\">\n",
       "      <th></th>\n",
       "      <th>Unnamed: 0</th>\n",
       "      <th>user_id</th>\n",
       "      <th>energy_consumption_perday</th>\n",
       "      <th>battery_id</th>\n",
       "      <th>rating</th>\n",
       "      <th>battery_brand</th>\n",
       "      <th>volume(kwh)</th>\n",
       "      <th>Price</th>\n",
       "      <th>side_info_user</th>\n",
       "    </tr>\n",
       "  </thead>\n",
       "  <tbody>\n",
       "    <tr>\n",
       "      <th>171</th>\n",
       "      <td>171</td>\n",
       "      <td>52</td>\n",
       "      <td>0.027068</td>\n",
       "      <td>5</td>\n",
       "      <td>3</td>\n",
       "      <td>BX6.3</td>\n",
       "      <td>0.217877</td>\n",
       "      <td>1180</td>\n",
       "      <td>0.027068</td>\n",
       "    </tr>\n",
       "    <tr>\n",
       "      <th>247</th>\n",
       "      <td>247</td>\n",
       "      <td>48</td>\n",
       "      <td>0.339715</td>\n",
       "      <td>37</td>\n",
       "      <td>3</td>\n",
       "      <td>Redflow Zcel</td>\n",
       "      <td>0.424581</td>\n",
       "      <td>1950</td>\n",
       "      <td>0.339715</td>\n",
       "    </tr>\n",
       "    <tr>\n",
       "      <th>402</th>\n",
       "      <td>402</td>\n",
       "      <td>100</td>\n",
       "      <td>0.283078</td>\n",
       "      <td>18</td>\n",
       "      <td>2</td>\n",
       "      <td>BX6</td>\n",
       "      <td>0.189944</td>\n",
       "      <td>840</td>\n",
       "      <td>0.283078</td>\n",
       "    </tr>\n",
       "    <tr>\n",
       "      <th>514</th>\n",
       "      <td>514</td>\n",
       "      <td>131</td>\n",
       "      <td>0.122592</td>\n",
       "      <td>24</td>\n",
       "      <td>3</td>\n",
       "      <td>Pike Energy Habor5</td>\n",
       "      <td>0.810056</td>\n",
       "      <td>1136</td>\n",
       "      <td>0.122592</td>\n",
       "    </tr>\n",
       "    <tr>\n",
       "      <th>118</th>\n",
       "      <td>118</td>\n",
       "      <td>107</td>\n",
       "      <td>0.083672</td>\n",
       "      <td>4</td>\n",
       "      <td>5</td>\n",
       "      <td>Pulse 6</td>\n",
       "      <td>0.229050</td>\n",
       "      <td>1236</td>\n",
       "      <td>0.083672</td>\n",
       "    </tr>\n",
       "    <tr>\n",
       "      <th>...</th>\n",
       "      <td>...</td>\n",
       "      <td>...</td>\n",
       "      <td>...</td>\n",
       "      <td>...</td>\n",
       "      <td>...</td>\n",
       "      <td>...</td>\n",
       "      <td>...</td>\n",
       "      <td>...</td>\n",
       "      <td>...</td>\n",
       "    </tr>\n",
       "    <tr>\n",
       "      <th>493</th>\n",
       "      <td>493</td>\n",
       "      <td>17</td>\n",
       "      <td>0.016738</td>\n",
       "      <td>13</td>\n",
       "      <td>5</td>\n",
       "      <td>US2000B1</td>\n",
       "      <td>0.000000</td>\n",
       "      <td>718</td>\n",
       "      <td>0.016738</td>\n",
       "    </tr>\n",
       "    <tr>\n",
       "      <th>348</th>\n",
       "      <td>348</td>\n",
       "      <td>57</td>\n",
       "      <td>0.022108</td>\n",
       "      <td>7</td>\n",
       "      <td>3</td>\n",
       "      <td>RESU Series2</td>\n",
       "      <td>0.229050</td>\n",
       "      <td>710</td>\n",
       "      <td>0.022108</td>\n",
       "    </tr>\n",
       "    <tr>\n",
       "      <th>499</th>\n",
       "      <td>499</td>\n",
       "      <td>43</td>\n",
       "      <td>0.436244</td>\n",
       "      <td>13</td>\n",
       "      <td>1</td>\n",
       "      <td>US2000B1</td>\n",
       "      <td>0.000000</td>\n",
       "      <td>718</td>\n",
       "      <td>0.436244</td>\n",
       "    </tr>\n",
       "    <tr>\n",
       "      <th>172</th>\n",
       "      <td>172</td>\n",
       "      <td>73</td>\n",
       "      <td>0.036346</td>\n",
       "      <td>1</td>\n",
       "      <td>2</td>\n",
       "      <td>Powerwall 2</td>\n",
       "      <td>0.620112</td>\n",
       "      <td>1022</td>\n",
       "      <td>0.036346</td>\n",
       "    </tr>\n",
       "    <tr>\n",
       "      <th>252</th>\n",
       "      <td>252</td>\n",
       "      <td>119</td>\n",
       "      <td>0.036828</td>\n",
       "      <td>15</td>\n",
       "      <td>4</td>\n",
       "      <td>Soltaro</td>\n",
       "      <td>0.117318</td>\n",
       "      <td>786</td>\n",
       "      <td>0.036828</td>\n",
       "    </tr>\n",
       "  </tbody>\n",
       "</table>\n",
       "<p>608 rows × 9 columns</p>\n",
       "</div>"
      ],
      "text/plain": [
       "     Unnamed: 0  user_id  energy_consumption_perday  battery_id  rating  \\\n",
       "171         171       52                   0.027068           5       3   \n",
       "247         247       48                   0.339715          37       3   \n",
       "402         402      100                   0.283078          18       2   \n",
       "514         514      131                   0.122592          24       3   \n",
       "118         118      107                   0.083672           4       5   \n",
       "..          ...      ...                        ...         ...     ...   \n",
       "493         493       17                   0.016738          13       5   \n",
       "348         348       57                   0.022108           7       3   \n",
       "499         499       43                   0.436244          13       1   \n",
       "172         172       73                   0.036346           1       2   \n",
       "252         252      119                   0.036828          15       4   \n",
       "\n",
       "          battery_brand  volume(kwh)  Price  side_info_user  \n",
       "171               BX6.3     0.217877   1180        0.027068  \n",
       "247        Redflow Zcel     0.424581   1950        0.339715  \n",
       "402                 BX6     0.189944    840        0.283078  \n",
       "514  Pike Energy Habor5     0.810056   1136        0.122592  \n",
       "118             Pulse 6     0.229050   1236        0.083672  \n",
       "..                  ...          ...    ...             ...  \n",
       "493            US2000B1     0.000000    718        0.016738  \n",
       "348        RESU Series2     0.229050    710        0.022108  \n",
       "499            US2000B1     0.000000    718        0.436244  \n",
       "172         Powerwall 2     0.620112   1022        0.036346  \n",
       "252             Soltaro     0.117318    786        0.036828  \n",
       "\n",
       "[608 rows x 9 columns]"
      ]
     },
     "execution_count": 6,
     "metadata": {},
     "output_type": "execute_result"
    }
   ],
   "source": [
    "rating_data"
   ]
  },
  {
   "cell_type": "code",
   "execution_count": 7,
   "metadata": {},
   "outputs": [
    {
     "name": "stderr",
     "output_type": "stream",
     "text": [
      "D:\\Anaconda3\\lib\\site-packages\\ipykernel_launcher.py:1: SettingWithCopyWarning: \n",
      "A value is trying to be set on a copy of a slice from a DataFrame.\n",
      "Try using .loc[row_indexer,col_indexer] = value instead\n",
      "\n",
      "See the caveats in the documentation: https://pandas.pydata.org/pandas-docs/stable/user_guide/indexing.html#returning-a-view-versus-a-copy\n",
      "  \"\"\"Entry point for launching an IPython kernel.\n"
     ]
    }
   ],
   "source": [
    "rating_data['side_info_item'] = rating_data['volume(kwh)']"
   ]
  },
  {
   "cell_type": "code",
   "execution_count": 8,
   "metadata": {},
   "outputs": [],
   "source": [
    "x_train, x_test, y_train, y_test = train_test_split(rating_data[['user_id','battery_id','side_info_user','side_info_item']], rating_data[['rating']], test_size=0.2, random_state=42)"
   ]
  },
  {
   "cell_type": "code",
   "execution_count": 9,
   "metadata": {},
   "outputs": [
    {
     "data": {
      "text/html": [
       "<div>\n",
       "<style scoped>\n",
       "    .dataframe tbody tr th:only-of-type {\n",
       "        vertical-align: middle;\n",
       "    }\n",
       "\n",
       "    .dataframe tbody tr th {\n",
       "        vertical-align: top;\n",
       "    }\n",
       "\n",
       "    .dataframe thead th {\n",
       "        text-align: right;\n",
       "    }\n",
       "</style>\n",
       "<table border=\"1\" class=\"dataframe\">\n",
       "  <thead>\n",
       "    <tr style=\"text-align: right;\">\n",
       "      <th></th>\n",
       "      <th>user_id</th>\n",
       "      <th>battery_id</th>\n",
       "      <th>side_info_user</th>\n",
       "      <th>side_info_item</th>\n",
       "    </tr>\n",
       "  </thead>\n",
       "  <tbody>\n",
       "    <tr>\n",
       "      <th>200</th>\n",
       "      <td>58</td>\n",
       "      <td>20</td>\n",
       "      <td>0.000000</td>\n",
       "      <td>0.502793</td>\n",
       "    </tr>\n",
       "    <tr>\n",
       "      <th>413</th>\n",
       "      <td>72</td>\n",
       "      <td>18</td>\n",
       "      <td>0.039148</td>\n",
       "      <td>0.189944</td>\n",
       "    </tr>\n",
       "    <tr>\n",
       "      <th>9</th>\n",
       "      <td>150</td>\n",
       "      <td>27</td>\n",
       "      <td>0.089839</td>\n",
       "      <td>0.536313</td>\n",
       "    </tr>\n",
       "    <tr>\n",
       "      <th>129</th>\n",
       "      <td>41</td>\n",
       "      <td>23</td>\n",
       "      <td>0.020238</td>\n",
       "      <td>0.620112</td>\n",
       "    </tr>\n",
       "    <tr>\n",
       "      <th>606</th>\n",
       "      <td>108</td>\n",
       "      <td>28</td>\n",
       "      <td>0.121868</td>\n",
       "      <td>0.184358</td>\n",
       "    </tr>\n",
       "    <tr>\n",
       "      <th>...</th>\n",
       "      <td>...</td>\n",
       "      <td>...</td>\n",
       "      <td>...</td>\n",
       "      <td>...</td>\n",
       "    </tr>\n",
       "    <tr>\n",
       "      <th>469</th>\n",
       "      <td>130</td>\n",
       "      <td>29</td>\n",
       "      <td>0.045912</td>\n",
       "      <td>0.821229</td>\n",
       "    </tr>\n",
       "    <tr>\n",
       "      <th>117</th>\n",
       "      <td>34</td>\n",
       "      <td>4</td>\n",
       "      <td>0.024963</td>\n",
       "      <td>0.229050</td>\n",
       "    </tr>\n",
       "    <tr>\n",
       "      <th>24</th>\n",
       "      <td>70</td>\n",
       "      <td>12</td>\n",
       "      <td>0.043210</td>\n",
       "      <td>0.402235</td>\n",
       "    </tr>\n",
       "    <tr>\n",
       "      <th>57</th>\n",
       "      <td>102</td>\n",
       "      <td>17</td>\n",
       "      <td>0.140168</td>\n",
       "      <td>0.229050</td>\n",
       "    </tr>\n",
       "    <tr>\n",
       "      <th>282</th>\n",
       "      <td>71</td>\n",
       "      <td>6</td>\n",
       "      <td>0.099452</td>\n",
       "      <td>0.050279</td>\n",
       "    </tr>\n",
       "  </tbody>\n",
       "</table>\n",
       "<p>486 rows × 4 columns</p>\n",
       "</div>"
      ],
      "text/plain": [
       "     user_id  battery_id  side_info_user  side_info_item\n",
       "200       58          20        0.000000        0.502793\n",
       "413       72          18        0.039148        0.189944\n",
       "9        150          27        0.089839        0.536313\n",
       "129       41          23        0.020238        0.620112\n",
       "606      108          28        0.121868        0.184358\n",
       "..       ...         ...             ...             ...\n",
       "469      130          29        0.045912        0.821229\n",
       "117       34           4        0.024963        0.229050\n",
       "24        70          12        0.043210        0.402235\n",
       "57       102          17        0.140168        0.229050\n",
       "282       71           6        0.099452        0.050279\n",
       "\n",
       "[486 rows x 4 columns]"
      ]
     },
     "execution_count": 9,
     "metadata": {},
     "output_type": "execute_result"
    }
   ],
   "source": [
    "x_train"
   ]
  },
  {
   "cell_type": "code",
   "execution_count": 10,
   "metadata": {},
   "outputs": [],
   "source": [
    "num_users = 150\n",
    "num_batteries = 39"
   ]
  },
  {
   "cell_type": "code",
   "execution_count": 11,
   "metadata": {},
   "outputs": [
    {
     "data": {
      "text/plain": [
       "TensorShape([None, 64])"
      ]
     },
     "execution_count": 11,
     "metadata": {},
     "output_type": "execute_result"
    }
   ],
   "source": [
    "aux_input_user = Input(shape=(1,))\n",
    "aux_dense1 = Dense(128, activation='relu')(aux_input_user)\n",
    "aux_dense1 = Dropout(0.3)(aux_dense1)\n",
    "aux_dense_user = Dense(64, activation='relu')(aux_dense1)\n",
    "aux_dense_user.shape"
   ]
  },
  {
   "cell_type": "code",
   "execution_count": 12,
   "metadata": {},
   "outputs": [
    {
     "data": {
      "text/plain": [
       "TensorShape([None, 64])"
      ]
     },
     "execution_count": 12,
     "metadata": {},
     "output_type": "execute_result"
    }
   ],
   "source": [
    "aux_input_item = Input(shape=(1,))\n",
    "aux_dense1 = Dense(128, activation='relu')(aux_input_item)\n",
    "aux_dense1 = Dropout(0.3)(aux_dense1)\n",
    "aux_dense_item = Dense(64, activation='relu')(aux_dense1)\n",
    "aux_dense_item.shape"
   ]
  },
  {
   "cell_type": "code",
   "execution_count": 13,
   "metadata": {},
   "outputs": [],
   "source": [
    "latent_factors = 5"
   ]
  },
  {
   "cell_type": "code",
   "execution_count": 14,
   "metadata": {},
   "outputs": [],
   "source": [
    "user_input = Input(shape=(1,),name='user_input', dtype='int32')\n",
    "user_embedding = Embedding(num_users+1, latent_factors, name='user_embedding')(user_input)\n",
    "user_flat = Flatten(name='user_flat')(user_embedding) #展平也可用 GlobalAveragePooling1D()\n",
    "user_flat = Dropout(0.3)(user_flat)\n",
    "user_dense = Dense(256, activation='relu')(user_flat)\n",
    "user_dense = Dropout(0.3)(user_dense)\n",
    "user_dense = Dense(128, activation='relu')(user_dense)\n",
    "user_dense = Dropout(0.3)(user_dense)\n",
    "user_dense = Dense(64, activation='relu')(user_dense)"
   ]
  },
  {
   "cell_type": "code",
   "execution_count": 15,
   "metadata": {},
   "outputs": [
    {
     "data": {
      "text/plain": [
       "TensorShape([None, 64])"
      ]
     },
     "execution_count": 15,
     "metadata": {},
     "output_type": "execute_result"
    }
   ],
   "source": [
    "user_dense.shape"
   ]
  },
  {
   "cell_type": "code",
   "execution_count": 16,
   "metadata": {},
   "outputs": [],
   "source": [
    "concat_user = concatenate([user_dense,aux_dense_user],axis=-1)"
   ]
  },
  {
   "cell_type": "code",
   "execution_count": 17,
   "metadata": {},
   "outputs": [
    {
     "data": {
      "text/plain": [
       "TensorShape([None, 128])"
      ]
     },
     "execution_count": 17,
     "metadata": {},
     "output_type": "execute_result"
    }
   ],
   "source": [
    "concat_user.shape"
   ]
  },
  {
   "cell_type": "code",
   "execution_count": 18,
   "metadata": {},
   "outputs": [],
   "source": [
    "battery_input = Input(shape=(1,),name='battery_input', dtype='int32')\n",
    "battery_embedding = Embedding(num_batteries+1, latent_factors, name='battery_embedding')(battery_input)\n",
    "battery_flat = Flatten(name='battery_flat')(battery_embedding)\n",
    "battery_flat = Dropout(0.3)(battery_flat)\n",
    "battery_dense = Dense(256, activation='relu')(battery_flat)\n",
    "battery_dense = Dropout(0.3)(battery_dense)\n",
    "battery_dense = Dense(128, activation='relu')(battery_dense)\n",
    "battery_dense = Dropout(0.3)(user_dense)\n",
    "battery_dense = Dense(64, activation='relu')(battery_dense)"
   ]
  },
  {
   "cell_type": "code",
   "execution_count": 19,
   "metadata": {},
   "outputs": [],
   "source": [
    "concat_battery = concatenate([battery_dense,aux_dense_item],axis=-1)"
   ]
  },
  {
   "cell_type": "code",
   "execution_count": 20,
   "metadata": {},
   "outputs": [],
   "source": [
    "product=dot([concat_user, concat_battery], name='product', axes=1)"
   ]
  },
  {
   "cell_type": "code",
   "execution_count": 21,
   "metadata": {},
   "outputs": [],
   "source": [
    "dense1 = Dense(512, activation='relu')(product)\n",
    "dense1 = Dropout(0.3)(dense1)\n",
    "dense2 = Dense(256, activation='relu')(dense1)\n",
    "dense2 = Dropout(0.3)(dense2)\n",
    "dense3 = Dense(128, activation='relu')(dense2)\n",
    "dense3 = Dropout(0.3)(dense3)\n",
    "dense4 = Dense(64, activation='relu')(dense3)\n",
    "dense_out = Dense(1, activation='relu')(dense4)"
   ]
  },
  {
   "cell_type": "code",
   "execution_count": 22,
   "metadata": {},
   "outputs": [],
   "source": [
    "model = Model([user_input,aux_input_user,battery_input,aux_input_item],dense_out)"
   ]
  },
  {
   "cell_type": "code",
   "execution_count": 23,
   "metadata": {},
   "outputs": [],
   "source": [
    "learning_rate = 0.00005\n",
    "epochs = 120\n",
    "batch_size = 256"
   ]
  },
  {
   "cell_type": "code",
   "execution_count": 24,
   "metadata": {},
   "outputs": [],
   "source": [
    "callbacks = [\n",
    "    keras.callbacks.EarlyStopping(\n",
    "        monitor='val_loss',\n",
    "        min_delta=1e-3,\n",
    "        patience=4,\n",
    "        verbose=1)\n",
    "]"
   ]
  },
  {
   "cell_type": "code",
   "execution_count": 25,
   "metadata": {},
   "outputs": [],
   "source": [
    "model.compile(optimizer=Adam(lr=learning_rate), loss='mse', metrics=[tf.keras.metrics.RootMeanSquaredError(), tf.keras.metrics.MeanAbsoluteError()])"
   ]
  },
  {
   "cell_type": "code",
   "execution_count": 26,
   "metadata": {},
   "outputs": [
    {
     "name": "stderr",
     "output_type": "stream",
     "text": [
      "D:\\Anaconda3\\lib\\site-packages\\tensorflow_core\\python\\framework\\indexed_slices.py:424: UserWarning: Converting sparse IndexedSlices to a dense Tensor of unknown shape. This may consume a large amount of memory.\n",
      "  \"Converting sparse IndexedSlices to a dense Tensor of unknown shape. \"\n"
     ]
    },
    {
     "name": "stdout",
     "output_type": "stream",
     "text": [
      "Train on 364 samples, validate on 122 samples\n",
      "Epoch 1/120\n",
      "364/364 [==============================] - 0s 1ms/step - loss: 9.3692 - root_mean_squared_error: 3.0857 - mean_absolute_error: 2.7779 - val_loss: 10.5079 - val_root_mean_squared_error: 3.1073 - val_mean_absolute_error: 2.7895\n",
      "Epoch 2/120\n",
      "364/364 [==============================] - 0s 55us/step - loss: 9.3613 - root_mean_squared_error: 3.0838 - mean_absolute_error: 2.7707 - val_loss: 10.4972 - val_root_mean_squared_error: 3.1066 - val_mean_absolute_error: 2.7888\n",
      "Epoch 3/120\n",
      "364/364 [==============================] - 0s 52us/step - loss: 9.3515 - root_mean_squared_error: 3.0960 - mean_absolute_error: 2.7806 - val_loss: 10.4854 - val_root_mean_squared_error: 3.1058 - val_mean_absolute_error: 2.7879\n",
      "Epoch 4/120\n",
      "364/364 [==============================] - 0s 52us/step - loss: 9.3406 - root_mean_squared_error: 3.0993 - mean_absolute_error: 2.7844 - val_loss: 10.4729 - val_root_mean_squared_error: 3.1049 - val_mean_absolute_error: 2.7869\n",
      "Epoch 5/120\n",
      "364/364 [==============================] - 0s 49us/step - loss: 9.3293 - root_mean_squared_error: 3.0998 - mean_absolute_error: 2.7829 - val_loss: 10.4598 - val_root_mean_squared_error: 3.1040 - val_mean_absolute_error: 2.7860\n",
      "Epoch 6/120\n",
      "364/364 [==============================] - 0s 52us/step - loss: 9.3168 - root_mean_squared_error: 3.0968 - mean_absolute_error: 2.7791 - val_loss: 10.4463 - val_root_mean_squared_error: 3.1031 - val_mean_absolute_error: 2.7849\n",
      "Epoch 7/120\n",
      "364/364 [==============================] - 0s 71us/step - loss: 9.3033 - root_mean_squared_error: 3.0987 - mean_absolute_error: 2.7815 - val_loss: 10.4322 - val_root_mean_squared_error: 3.1021 - val_mean_absolute_error: 2.7838\n",
      "Epoch 8/120\n",
      "364/364 [==============================] - 0s 58us/step - loss: 9.2903 - root_mean_squared_error: 3.0988 - mean_absolute_error: 2.7820 - val_loss: 10.4176 - val_root_mean_squared_error: 3.1011 - val_mean_absolute_error: 2.7827\n",
      "Epoch 9/120\n",
      "364/364 [==============================] - 0s 55us/step - loss: 9.2776 - root_mean_squared_error: 3.0985 - mean_absolute_error: 2.7811 - val_loss: 10.4025 - val_root_mean_squared_error: 3.1001 - val_mean_absolute_error: 2.7816\n",
      "Epoch 10/120\n",
      "364/364 [==============================] - 0s 49us/step - loss: 9.2657 - root_mean_squared_error: 3.0953 - mean_absolute_error: 2.7774 - val_loss: 10.3869 - val_root_mean_squared_error: 3.0991 - val_mean_absolute_error: 2.7804\n",
      "Epoch 11/120\n",
      "364/364 [==============================] - 0s 49us/step - loss: 9.2493 - root_mean_squared_error: 3.0947 - mean_absolute_error: 2.7764 - val_loss: 10.3706 - val_root_mean_squared_error: 3.0980 - val_mean_absolute_error: 2.7792\n",
      "Epoch 12/120\n",
      "364/364 [==============================] - 0s 55us/step - loss: 9.2333 - root_mean_squared_error: 3.0958 - mean_absolute_error: 2.7774 - val_loss: 10.3537 - val_root_mean_squared_error: 3.0969 - val_mean_absolute_error: 2.7780\n",
      "Epoch 13/120\n",
      "364/364 [==============================] - 0s 55us/step - loss: 9.2181 - root_mean_squared_error: 3.0934 - mean_absolute_error: 2.7753 - val_loss: 10.3361 - val_root_mean_squared_error: 3.0957 - val_mean_absolute_error: 2.7767\n",
      "Epoch 14/120\n",
      "364/364 [==============================] - 0s 52us/step - loss: 9.2004 - root_mean_squared_error: 3.0940 - mean_absolute_error: 2.7756 - val_loss: 10.3177 - val_root_mean_squared_error: 3.0946 - val_mean_absolute_error: 2.7754\n",
      "Epoch 15/120\n",
      "364/364 [==============================] - 0s 55us/step - loss: 9.1849 - root_mean_squared_error: 3.0921 - mean_absolute_error: 2.7736 - val_loss: 10.2984 - val_root_mean_squared_error: 3.0934 - val_mean_absolute_error: 2.7741\n",
      "Epoch 16/120\n",
      "364/364 [==============================] - 0s 52us/step - loss: 9.1649 - root_mean_squared_error: 3.0909 - mean_absolute_error: 2.7719 - val_loss: 10.2782 - val_root_mean_squared_error: 3.0921 - val_mean_absolute_error: 2.7727\n",
      "Epoch 17/120\n",
      "364/364 [==============================] - 0s 55us/step - loss: 9.1455 - root_mean_squared_error: 3.0891 - mean_absolute_error: 2.7699 - val_loss: 10.2570 - val_root_mean_squared_error: 3.0908 - val_mean_absolute_error: 2.7712\n",
      "Epoch 18/120\n",
      "364/364 [==============================] - 0s 55us/step - loss: 9.1257 - root_mean_squared_error: 3.0876 - mean_absolute_error: 2.7684 - val_loss: 10.2347 - val_root_mean_squared_error: 3.0895 - val_mean_absolute_error: 2.7697\n",
      "Epoch 19/120\n",
      "364/364 [==============================] - 0s 55us/step - loss: 9.1042 - root_mean_squared_error: 3.0881 - mean_absolute_error: 2.7688 - val_loss: 10.2112 - val_root_mean_squared_error: 3.0881 - val_mean_absolute_error: 2.7682\n",
      "Epoch 20/120\n",
      "364/364 [==============================] - 0s 55us/step - loss: 9.0827 - root_mean_squared_error: 3.0854 - mean_absolute_error: 2.7658 - val_loss: 10.1865 - val_root_mean_squared_error: 3.0866 - val_mean_absolute_error: 2.7666\n",
      "Epoch 21/120\n",
      "364/364 [==============================] - 0s 55us/step - loss: 9.0582 - root_mean_squared_error: 3.0841 - mean_absolute_error: 2.7645 - val_loss: 10.1604 - val_root_mean_squared_error: 3.0852 - val_mean_absolute_error: 2.7649\n",
      "Epoch 22/120\n",
      "364/364 [==============================] - 0s 52us/step - loss: 9.0369 - root_mean_squared_error: 3.0839 - mean_absolute_error: 2.7638 - val_loss: 10.1328 - val_root_mean_squared_error: 3.0836 - val_mean_absolute_error: 2.7633\n",
      "Epoch 23/120\n",
      "364/364 [==============================] - 0s 52us/step - loss: 9.0108 - root_mean_squared_error: 3.0821 - mean_absolute_error: 2.7618 - val_loss: 10.1036 - val_root_mean_squared_error: 3.0821 - val_mean_absolute_error: 2.7615\n",
      "Epoch 24/120\n",
      "364/364 [==============================] - 0s 52us/step - loss: 8.9776 - root_mean_squared_error: 3.0799 - mean_absolute_error: 2.7594 - val_loss: 10.0727 - val_root_mean_squared_error: 3.0804 - val_mean_absolute_error: 2.7596\n",
      "Epoch 25/120\n",
      "364/364 [==============================] - 0s 55us/step - loss: 8.9485 - root_mean_squared_error: 3.0792 - mean_absolute_error: 2.7588 - val_loss: 10.0399 - val_root_mean_squared_error: 3.0787 - val_mean_absolute_error: 2.7577\n",
      "Epoch 26/120\n",
      "364/364 [==============================] - 0s 52us/step - loss: 8.9167 - root_mean_squared_error: 3.0766 - mean_absolute_error: 2.7557 - val_loss: 10.0051 - val_root_mean_squared_error: 3.0769 - val_mean_absolute_error: 2.7557\n",
      "Epoch 27/120\n",
      "364/364 [==============================] - 0s 55us/step - loss: 8.8874 - root_mean_squared_error: 3.0745 - mean_absolute_error: 2.7535 - val_loss: 9.9681 - val_root_mean_squared_error: 3.0750 - val_mean_absolute_error: 2.7536\n",
      "Epoch 28/120\n",
      "364/364 [==============================] - 0s 49us/step - loss: 8.8536 - root_mean_squared_error: 3.0721 - mean_absolute_error: 2.7510 - val_loss: 9.9286 - val_root_mean_squared_error: 3.0731 - val_mean_absolute_error: 2.7514\n",
      "Epoch 29/120\n",
      "364/364 [==============================] - 0s 55us/step - loss: 8.8118 - root_mean_squared_error: 3.0709 - mean_absolute_error: 2.7492 - val_loss: 9.8864 - val_root_mean_squared_error: 3.0710 - val_mean_absolute_error: 2.7492\n",
      "Epoch 30/120\n",
      "364/364 [==============================] - 0s 55us/step - loss: 8.7634 - root_mean_squared_error: 3.0688 - mean_absolute_error: 2.7468 - val_loss: 9.8411 - val_root_mean_squared_error: 3.0689 - val_mean_absolute_error: 2.7468\n",
      "Epoch 31/120\n",
      "364/364 [==============================] - 0s 52us/step - loss: 8.7300 - root_mean_squared_error: 3.0666 - mean_absolute_error: 2.7445 - val_loss: 9.7927 - val_root_mean_squared_error: 3.0667 - val_mean_absolute_error: 2.7443\n",
      "Epoch 32/120\n",
      "364/364 [==============================] - 0s 52us/step - loss: 8.6832 - root_mean_squared_error: 3.0642 - mean_absolute_error: 2.7419 - val_loss: 9.7408 - val_root_mean_squared_error: 3.0643 - val_mean_absolute_error: 2.7416\n",
      "Epoch 33/120\n",
      "364/364 [==============================] - 0s 52us/step - loss: 8.6357 - root_mean_squared_error: 3.0620 - mean_absolute_error: 2.7392 - val_loss: 9.6850 - val_root_mean_squared_error: 3.0619 - val_mean_absolute_error: 2.7389\n",
      "Epoch 34/120\n",
      "364/364 [==============================] - 0s 55us/step - loss: 8.5790 - root_mean_squared_error: 3.0597 - mean_absolute_error: 2.7368 - val_loss: 9.6252 - val_root_mean_squared_error: 3.0594 - val_mean_absolute_error: 2.7360\n",
      "Epoch 35/120\n"
     ]
    },
    {
     "name": "stdout",
     "output_type": "stream",
     "text": [
      "364/364 [==============================] - 0s 52us/step - loss: 8.5180 - root_mean_squared_error: 3.0569 - mean_absolute_error: 2.7337 - val_loss: 9.5608 - val_root_mean_squared_error: 3.0566 - val_mean_absolute_error: 2.7330\n",
      "Epoch 36/120\n",
      "364/364 [==============================] - 0s 52us/step - loss: 8.4531 - root_mean_squared_error: 3.0537 - mean_absolute_error: 2.7300 - val_loss: 9.4913 - val_root_mean_squared_error: 3.0538 - val_mean_absolute_error: 2.7297\n",
      "Epoch 37/120\n",
      "364/364 [==============================] - 0s 49us/step - loss: 8.3658 - root_mean_squared_error: 3.0513 - mean_absolute_error: 2.7270 - val_loss: 9.4160 - val_root_mean_squared_error: 3.0507 - val_mean_absolute_error: 2.7262\n",
      "Epoch 38/120\n",
      "364/364 [==============================] - 0s 47us/step - loss: 8.3239 - root_mean_squared_error: 3.0479 - mean_absolute_error: 2.7234 - val_loss: 9.3348 - val_root_mean_squared_error: 3.0476 - val_mean_absolute_error: 2.7227\n",
      "Epoch 39/120\n",
      "364/364 [==============================] - 0s 47us/step - loss: 8.2273 - root_mean_squared_error: 3.0451 - mean_absolute_error: 2.7201 - val_loss: 9.2471 - val_root_mean_squared_error: 3.0442 - val_mean_absolute_error: 2.7188\n",
      "Epoch 40/120\n",
      "364/364 [==============================] - 0s 47us/step - loss: 8.1545 - root_mean_squared_error: 3.0412 - mean_absolute_error: 2.7156 - val_loss: 9.1525 - val_root_mean_squared_error: 3.0406 - val_mean_absolute_error: 2.7148\n",
      "Epoch 41/120\n",
      "364/364 [==============================] - 0s 47us/step - loss: 8.0629 - root_mean_squared_error: 3.0378 - mean_absolute_error: 2.7119 - val_loss: 9.0500 - val_root_mean_squared_error: 3.0369 - val_mean_absolute_error: 2.7105\n",
      "Epoch 42/120\n",
      "364/364 [==============================] - 0s 49us/step - loss: 7.9729 - root_mean_squared_error: 3.0337 - mean_absolute_error: 2.7069 - val_loss: 8.9393 - val_root_mean_squared_error: 3.0329 - val_mean_absolute_error: 2.7059\n",
      "Epoch 43/120\n",
      "364/364 [==============================] - 0s 49us/step - loss: 7.8392 - root_mean_squared_error: 3.0293 - mean_absolute_error: 2.7020 - val_loss: 8.8189 - val_root_mean_squared_error: 3.0287 - val_mean_absolute_error: 2.7010\n",
      "Epoch 44/120\n",
      "364/364 [==============================] - 0s 47us/step - loss: 7.7212 - root_mean_squared_error: 3.0251 - mean_absolute_error: 2.6971 - val_loss: 8.6881 - val_root_mean_squared_error: 3.0241 - val_mean_absolute_error: 2.6958\n",
      "Epoch 45/120\n",
      "364/364 [==============================] - 0s 49us/step - loss: 7.5874 - root_mean_squared_error: 3.0202 - mean_absolute_error: 2.6913 - val_loss: 8.5462 - val_root_mean_squared_error: 3.0193 - val_mean_absolute_error: 2.6902\n",
      "Epoch 46/120\n",
      "364/364 [==============================] - 0s 47us/step - loss: 7.4424 - root_mean_squared_error: 3.0154 - mean_absolute_error: 2.6858 - val_loss: 8.3922 - val_root_mean_squared_error: 3.0141 - val_mean_absolute_error: 2.6841\n",
      "Epoch 47/120\n",
      "364/364 [==============================] - 0s 47us/step - loss: 7.2826 - root_mean_squared_error: 3.0098 - mean_absolute_error: 2.6792 - val_loss: 8.2251 - val_root_mean_squared_error: 3.0086 - val_mean_absolute_error: 2.6776\n",
      "Epoch 48/120\n",
      "364/364 [==============================] - 0s 47us/step - loss: 7.1475 - root_mean_squared_error: 3.0045 - mean_absolute_error: 2.6730 - val_loss: 8.0438 - val_root_mean_squared_error: 3.0028 - val_mean_absolute_error: 2.6707\n",
      "Epoch 49/120\n",
      "364/364 [==============================] - 0s 49us/step - loss: 6.9800 - root_mean_squared_error: 2.9984 - mean_absolute_error: 2.6657 - val_loss: 7.8479 - val_root_mean_squared_error: 2.9966 - val_mean_absolute_error: 2.6633\n",
      "Epoch 50/120\n",
      "364/364 [==============================] - 0s 47us/step - loss: 6.7671 - root_mean_squared_error: 2.9921 - mean_absolute_error: 2.6581 - val_loss: 7.6360 - val_root_mean_squared_error: 2.9899 - val_mean_absolute_error: 2.6552\n",
      "Epoch 51/120\n",
      "364/364 [==============================] - 0s 47us/step - loss: 6.5419 - root_mean_squared_error: 2.9846 - mean_absolute_error: 2.6490 - val_loss: 7.4068 - val_root_mean_squared_error: 2.9827 - val_mean_absolute_error: 2.6466\n",
      "Epoch 52/120\n",
      "364/364 [==============================] - 0s 49us/step - loss: 6.3711 - root_mean_squared_error: 2.9776 - mean_absolute_error: 2.6405 - val_loss: 7.1588 - val_root_mean_squared_error: 2.9752 - val_mean_absolute_error: 2.6374\n",
      "Epoch 53/120\n",
      "364/364 [==============================] - 0s 47us/step - loss: 6.1026 - root_mean_squared_error: 2.9695 - mean_absolute_error: 2.6304 - val_loss: 6.8932 - val_root_mean_squared_error: 2.9671 - val_mean_absolute_error: 2.6273\n",
      "Epoch 54/120\n",
      "364/364 [==============================] - 0s 44us/step - loss: 5.8039 - root_mean_squared_error: 2.9610 - mean_absolute_error: 2.6199 - val_loss: 6.6077 - val_root_mean_squared_error: 2.9584 - val_mean_absolute_error: 2.6164\n",
      "Epoch 55/120\n",
      "364/364 [==============================] - 0s 44us/step - loss: 5.6103 - root_mean_squared_error: 2.9520 - mean_absolute_error: 2.6086 - val_loss: 6.3031 - val_root_mean_squared_error: 2.9493 - val_mean_absolute_error: 2.6049\n",
      "Epoch 56/120\n",
      "364/364 [==============================] - 0s 63us/step - loss: 5.2423 - root_mean_squared_error: 2.9426 - mean_absolute_error: 2.5966 - val_loss: 5.9797 - val_root_mean_squared_error: 2.9393 - val_mean_absolute_error: 2.5924\n",
      "Epoch 57/120\n",
      "364/364 [==============================] - 0s 47us/step - loss: 4.9890 - root_mean_squared_error: 2.9323 - mean_absolute_error: 2.5834 - val_loss: 5.6391 - val_root_mean_squared_error: 2.9289 - val_mean_absolute_error: 2.5790\n",
      "Epoch 58/120\n",
      "364/364 [==============================] - 0s 47us/step - loss: 4.6392 - root_mean_squared_error: 2.9215 - mean_absolute_error: 2.5697 - val_loss: 5.2830 - val_root_mean_squared_error: 2.9178 - val_mean_absolute_error: 2.5648\n",
      "Epoch 59/120\n",
      "364/364 [==============================] - 0s 47us/step - loss: 4.3642 - root_mean_squared_error: 2.9104 - mean_absolute_error: 2.5557 - val_loss: 4.9155 - val_root_mean_squared_error: 2.9061 - val_mean_absolute_error: 2.5500\n",
      "Epoch 60/120\n",
      "364/364 [==============================] - 0s 47us/step - loss: 3.9870 - root_mean_squared_error: 2.8979 - mean_absolute_error: 2.5398 - val_loss: 4.5417 - val_root_mean_squared_error: 2.8937 - val_mean_absolute_error: 2.5344\n",
      "Epoch 61/120\n",
      "364/364 [==============================] - 0s 47us/step - loss: 3.6554 - root_mean_squared_error: 2.8850 - mean_absolute_error: 2.5235 - val_loss: 4.1640 - val_root_mean_squared_error: 2.8807 - val_mean_absolute_error: 2.5182\n",
      "Epoch 62/120\n",
      "364/364 [==============================] - 0s 44us/step - loss: 3.3237 - root_mean_squared_error: 2.8718 - mean_absolute_error: 2.5073 - val_loss: 3.7892 - val_root_mean_squared_error: 2.8670 - val_mean_absolute_error: 2.5015\n",
      "Epoch 63/120\n",
      "364/364 [==============================] - 0s 47us/step - loss: 3.0052 - root_mean_squared_error: 2.8577 - mean_absolute_error: 2.4899 - val_loss: 3.4286 - val_root_mean_squared_error: 2.8528 - val_mean_absolute_error: 2.4840\n",
      "Epoch 64/120\n",
      "364/364 [==============================] - 0s 47us/step - loss: 2.7427 - root_mean_squared_error: 2.8434 - mean_absolute_error: 2.4721 - val_loss: 3.0936 - val_root_mean_squared_error: 2.8383 - val_mean_absolute_error: 2.4659\n",
      "Epoch 65/120\n",
      "364/364 [==============================] - 0s 47us/step - loss: 2.5132 - root_mean_squared_error: 2.8286 - mean_absolute_error: 2.4540 - val_loss: 2.7984 - val_root_mean_squared_error: 2.8234 - val_mean_absolute_error: 2.4476\n",
      "Epoch 66/120\n",
      "364/364 [==============================] - 0s 44us/step - loss: 2.3488 - root_mean_squared_error: 2.8137 - mean_absolute_error: 2.4358 - val_loss: 2.5558 - val_root_mean_squared_error: 2.8084 - val_mean_absolute_error: 2.4295\n",
      "Epoch 67/120\n",
      "364/364 [==============================] - 0s 47us/step - loss: 2.2026 - root_mean_squared_error: 2.7987 - mean_absolute_error: 2.4175 - val_loss: 2.3754 - val_root_mean_squared_error: 2.7934 - val_mean_absolute_error: 2.4114\n",
      "Epoch 68/120\n",
      "364/364 [==============================] - 0s 47us/step - loss: 2.0332 - root_mean_squared_error: 2.7836 - mean_absolute_error: 2.3997 - val_loss: 2.2535 - val_root_mean_squared_error: 2.7783 - val_mean_absolute_error: 2.3935\n",
      "Epoch 69/120\n"
     ]
    },
    {
     "name": "stdout",
     "output_type": "stream",
     "text": [
      "364/364 [==============================] - 0s 49us/step - loss: 2.1476 - root_mean_squared_error: 2.7689 - mean_absolute_error: 2.3825 - val_loss: 2.1899 - val_root_mean_squared_error: 2.7638 - val_mean_absolute_error: 2.3766\n",
      "Epoch 70/120\n",
      "364/364 [==============================] - 0s 47us/step - loss: 2.2035 - root_mean_squared_error: 2.7547 - mean_absolute_error: 2.3660 - val_loss: 2.1636 - val_root_mean_squared_error: 2.7497 - val_mean_absolute_error: 2.3604\n",
      "Epoch 71/120\n",
      "364/364 [==============================] - 0s 47us/step - loss: 2.1392 - root_mean_squared_error: 2.7407 - mean_absolute_error: 2.3502 - val_loss: 2.1545 - val_root_mean_squared_error: 2.7357 - val_mean_absolute_error: 2.3447\n",
      "Epoch 72/120\n",
      "364/364 [==============================] - 0s 49us/step - loss: 2.1572 - root_mean_squared_error: 2.7271 - mean_absolute_error: 2.3345 - val_loss: 2.1521 - val_root_mean_squared_error: 2.7222 - val_mean_absolute_error: 2.3290\n",
      "Epoch 73/120\n",
      "364/364 [==============================] - 0s 47us/step - loss: 2.4675 - root_mean_squared_error: 2.7142 - mean_absolute_error: 2.3201 - val_loss: 2.1542 - val_root_mean_squared_error: 2.7095 - val_mean_absolute_error: 2.3150\n",
      "Epoch 74/120\n",
      "364/364 [==============================] - 0s 47us/step - loss: 2.1514 - root_mean_squared_error: 2.7013 - mean_absolute_error: 2.3057 - val_loss: 2.1624 - val_root_mean_squared_error: 2.6966 - val_mean_absolute_error: 2.3005\n",
      "Epoch 75/120\n",
      "364/364 [==============================] - 0s 47us/step - loss: 2.1122 - root_mean_squared_error: 2.6885 - mean_absolute_error: 2.2914 - val_loss: 2.1783 - val_root_mean_squared_error: 2.6838 - val_mean_absolute_error: 2.2862\n",
      "Epoch 76/120\n",
      "364/364 [==============================] - 0s 47us/step - loss: 2.0431 - root_mean_squared_error: 2.6757 - mean_absolute_error: 2.2769 - val_loss: 2.2007 - val_root_mean_squared_error: 2.6712 - val_mean_absolute_error: 2.2720\n",
      "Epoch 77/120\n",
      "364/364 [==============================] - 0s 47us/step - loss: 2.0843 - root_mean_squared_error: 2.6633 - mean_absolute_error: 2.2630 - val_loss: 2.2290 - val_root_mean_squared_error: 2.6590 - val_mean_absolute_error: 2.2583\n",
      "Epoch 78/120\n",
      "364/364 [==============================] - 0s 47us/step - loss: 2.1784 - root_mean_squared_error: 2.6515 - mean_absolute_error: 2.2499 - val_loss: 2.2624 - val_root_mean_squared_error: 2.6472 - val_mean_absolute_error: 2.2453\n",
      "Epoch 79/120\n",
      "364/364 [==============================] - 0s 47us/step - loss: 2.0861 - root_mean_squared_error: 2.6397 - mean_absolute_error: 2.2369 - val_loss: 2.2903 - val_root_mean_squared_error: 2.6356 - val_mean_absolute_error: 2.2323\n",
      "Epoch 80/120\n",
      "364/364 [==============================] - 0s 47us/step - loss: 1.9197 - root_mean_squared_error: 2.6279 - mean_absolute_error: 2.2237 - val_loss: 2.3138 - val_root_mean_squared_error: 2.6239 - val_mean_absolute_error: 2.2192\n",
      "Epoch 81/120\n",
      "364/364 [==============================] - 0s 44us/step - loss: 2.1764 - root_mean_squared_error: 2.6167 - mean_absolute_error: 2.2111 - val_loss: 2.3316 - val_root_mean_squared_error: 2.6129 - val_mean_absolute_error: 2.2070\n",
      "Epoch 82/120\n",
      "364/364 [==============================] - 0s 49us/step - loss: 2.1730 - root_mean_squared_error: 2.6060 - mean_absolute_error: 2.1991 - val_loss: 2.3440 - val_root_mean_squared_error: 2.6021 - val_mean_absolute_error: 2.1949\n",
      "Epoch 83/120\n",
      "364/364 [==============================] - 0s 44us/step - loss: 2.1816 - root_mean_squared_error: 2.5953 - mean_absolute_error: 2.1875 - val_loss: 2.3473 - val_root_mean_squared_error: 2.5915 - val_mean_absolute_error: 2.1834\n",
      "Epoch 84/120\n",
      "364/364 [==============================] - 0s 47us/step - loss: 2.0771 - root_mean_squared_error: 2.5847 - mean_absolute_error: 2.1758 - val_loss: 2.3457 - val_root_mean_squared_error: 2.5810 - val_mean_absolute_error: 2.1717\n",
      "Epoch 85/120\n",
      "364/364 [==============================] - 0s 47us/step - loss: 1.9734 - root_mean_squared_error: 2.5741 - mean_absolute_error: 2.1641 - val_loss: 2.3391 - val_root_mean_squared_error: 2.5705 - val_mean_absolute_error: 2.1602\n",
      "Epoch 86/120\n",
      "364/364 [==============================] - 0s 49us/step - loss: 2.1129 - root_mean_squared_error: 2.5640 - mean_absolute_error: 2.1530 - val_loss: 2.3289 - val_root_mean_squared_error: 2.5604 - val_mean_absolute_error: 2.1491\n",
      "Epoch 87/120\n",
      "364/364 [==============================] - 0s 47us/step - loss: 2.0835 - root_mean_squared_error: 2.5540 - mean_absolute_error: 2.1419 - val_loss: 2.3138 - val_root_mean_squared_error: 2.5505 - val_mean_absolute_error: 2.1382\n",
      "Epoch 88/120\n",
      "364/364 [==============================] - 0s 44us/step - loss: 2.0211 - root_mean_squared_error: 2.5441 - mean_absolute_error: 2.1311 - val_loss: 2.2965 - val_root_mean_squared_error: 2.5407 - val_mean_absolute_error: 2.1275\n",
      "Epoch 89/120\n",
      "364/364 [==============================] - 0s 47us/step - loss: 2.0058 - root_mean_squared_error: 2.5343 - mean_absolute_error: 2.1206 - val_loss: 2.2813 - val_root_mean_squared_error: 2.5310 - val_mean_absolute_error: 2.1170\n",
      "Epoch 90/120\n",
      "364/364 [==============================] - 0s 44us/step - loss: 2.0901 - root_mean_squared_error: 2.5248 - mean_absolute_error: 2.1105 - val_loss: 2.2683 - val_root_mean_squared_error: 2.5216 - val_mean_absolute_error: 2.1071\n",
      "Epoch 91/120\n",
      "364/364 [==============================] - 0s 47us/step - loss: 2.1066 - root_mean_squared_error: 2.5157 - mean_absolute_error: 2.1009 - val_loss: 2.2573 - val_root_mean_squared_error: 2.5124 - val_mean_absolute_error: 2.0975\n",
      "Epoch 92/120\n",
      "364/364 [==============================] - 0s 47us/step - loss: 2.0756 - root_mean_squared_error: 2.5065 - mean_absolute_error: 2.0912 - val_loss: 2.2520 - val_root_mean_squared_error: 2.5033 - val_mean_absolute_error: 2.0879\n",
      "Epoch 93/120\n",
      "364/364 [==============================] - 0s 47us/step - loss: 1.9862 - root_mean_squared_error: 2.4973 - mean_absolute_error: 2.0815 - val_loss: 2.2455 - val_root_mean_squared_error: 2.4942 - val_mean_absolute_error: 2.0784\n",
      "Epoch 94/120\n",
      "364/364 [==============================] - 0s 47us/step - loss: 2.0764 - root_mean_squared_error: 2.4886 - mean_absolute_error: 2.0725 - val_loss: 2.2368 - val_root_mean_squared_error: 2.4854 - val_mean_absolute_error: 2.0693\n",
      "Epoch 95/120\n",
      "364/364 [==============================] - 0s 47us/step - loss: 1.9953 - root_mean_squared_error: 2.4798 - mean_absolute_error: 2.0632 - val_loss: 2.2318 - val_root_mean_squared_error: 2.4767 - val_mean_absolute_error: 2.0600\n",
      "Epoch 96/120\n",
      "364/364 [==============================] - 0s 44us/step - loss: 2.0541 - root_mean_squared_error: 2.4712 - mean_absolute_error: 2.0543 - val_loss: 2.2321 - val_root_mean_squared_error: 2.4682 - val_mean_absolute_error: 2.0512\n",
      "Epoch 97/120\n",
      "364/364 [==============================] - 0s 44us/step - loss: 1.9797 - root_mean_squared_error: 2.4627 - mean_absolute_error: 2.0456 - val_loss: 2.2317 - val_root_mean_squared_error: 2.4597 - val_mean_absolute_error: 2.0425\n",
      "Epoch 98/120\n",
      "364/364 [==============================] - 0s 47us/step - loss: 2.1258 - root_mean_squared_error: 2.4545 - mean_absolute_error: 2.0371 - val_loss: 2.2336 - val_root_mean_squared_error: 2.4516 - val_mean_absolute_error: 2.0342\n",
      "Epoch 99/120\n",
      "364/364 [==============================] - 0s 44us/step - loss: 2.1023 - root_mean_squared_error: 2.4465 - mean_absolute_error: 2.0289 - val_loss: 2.2397 - val_root_mean_squared_error: 2.4436 - val_mean_absolute_error: 2.0259\n",
      "Epoch 100/120\n",
      "364/364 [==============================] - 0s 47us/step - loss: 1.9672 - root_mean_squared_error: 2.4384 - mean_absolute_error: 2.0204 - val_loss: 2.2463 - val_root_mean_squared_error: 2.4356 - val_mean_absolute_error: 2.0175\n",
      "Epoch 101/120\n",
      "364/364 [==============================] - 0s 47us/step - loss: 2.0051 - root_mean_squared_error: 2.4305 - mean_absolute_error: 2.0121 - val_loss: 2.2525 - val_root_mean_squared_error: 2.4277 - val_mean_absolute_error: 2.0093\n",
      "Epoch 102/120\n",
      "364/364 [==============================] - 0s 47us/step - loss: 1.9449 - root_mean_squared_error: 2.4226 - mean_absolute_error: 2.0040 - val_loss: 2.2563 - val_root_mean_squared_error: 2.4199 - val_mean_absolute_error: 2.0013\n",
      "Epoch 103/120\n"
     ]
    },
    {
     "name": "stdout",
     "output_type": "stream",
     "text": [
      "364/364 [==============================] - 0s 44us/step - loss: 1.9816 - root_mean_squared_error: 2.4149 - mean_absolute_error: 1.9961 - val_loss: 2.2559 - val_root_mean_squared_error: 2.4122 - val_mean_absolute_error: 1.9935\n",
      "Epoch 104/120\n",
      "364/364 [==============================] - 0s 44us/step - loss: 2.0491 - root_mean_squared_error: 2.4074 - mean_absolute_error: 1.9886 - val_loss: 2.2497 - val_root_mean_squared_error: 2.4048 - val_mean_absolute_error: 1.9860\n",
      "Epoch 105/120\n",
      "364/364 [==============================] - 0s 44us/step - loss: 1.9249 - root_mean_squared_error: 2.3999 - mean_absolute_error: 1.9809 - val_loss: 2.2417 - val_root_mean_squared_error: 2.3973 - val_mean_absolute_error: 1.9783\n",
      "Epoch 106/120\n",
      "364/364 [==============================] - 0s 47us/step - loss: 1.9834 - root_mean_squared_error: 2.3926 - mean_absolute_error: 1.9734 - val_loss: 2.2328 - val_root_mean_squared_error: 2.3900 - val_mean_absolute_error: 1.9709\n",
      "Epoch 107/120\n",
      "364/364 [==============================] - 0s 47us/step - loss: 2.0196 - root_mean_squared_error: 2.3854 - mean_absolute_error: 1.9661 - val_loss: 2.2249 - val_root_mean_squared_error: 2.3829 - val_mean_absolute_error: 1.9637\n",
      "Epoch 108/120\n",
      "364/364 [==============================] - 0s 44us/step - loss: 1.8456 - root_mean_squared_error: 2.3781 - mean_absolute_error: 1.9587 - val_loss: 2.2199 - val_root_mean_squared_error: 2.3756 - val_mean_absolute_error: 1.9562\n",
      "Epoch 109/120\n",
      "364/364 [==============================] - 0s 52us/step - loss: 1.9918 - root_mean_squared_error: 2.3711 - mean_absolute_error: 1.9518 - val_loss: 2.2232 - val_root_mean_squared_error: 2.3687 - val_mean_absolute_error: 1.9493\n",
      "Epoch 110/120\n",
      "364/364 [==============================] - 0s 52us/step - loss: 2.0032 - root_mean_squared_error: 2.3642 - mean_absolute_error: 1.9448 - val_loss: 2.2284 - val_root_mean_squared_error: 2.3618 - val_mean_absolute_error: 1.9425\n",
      "Epoch 111/120\n",
      "364/364 [==============================] - 0s 47us/step - loss: 2.0052 - root_mean_squared_error: 2.3575 - mean_absolute_error: 1.9379 - val_loss: 2.2348 - val_root_mean_squared_error: 2.3551 - val_mean_absolute_error: 1.9357\n",
      "Epoch 112/120\n",
      "364/364 [==============================] - 0s 47us/step - loss: 2.0355 - root_mean_squared_error: 2.3509 - mean_absolute_error: 1.9314 - val_loss: 2.2374 - val_root_mean_squared_error: 2.3486 - val_mean_absolute_error: 1.9292\n",
      "Epoch 113/120\n",
      "364/364 [==============================] - 0s 44us/step - loss: 2.0433 - root_mean_squared_error: 2.3443 - mean_absolute_error: 1.9248 - val_loss: 2.2395 - val_root_mean_squared_error: 2.3421 - val_mean_absolute_error: 1.9228\n",
      "Epoch 114/120\n",
      "364/364 [==============================] - 0s 44us/step - loss: 1.9900 - root_mean_squared_error: 2.3379 - mean_absolute_error: 1.9184 - val_loss: 2.2409 - val_root_mean_squared_error: 2.3357 - val_mean_absolute_error: 1.9164\n",
      "Epoch 115/120\n",
      "364/364 [==============================] - 0s 47us/step - loss: 2.1144 - root_mean_squared_error: 2.3317 - mean_absolute_error: 1.9124 - val_loss: 2.2428 - val_root_mean_squared_error: 2.3295 - val_mean_absolute_error: 1.9103\n",
      "Epoch 116/120\n",
      "364/364 [==============================] - 0s 47us/step - loss: 1.8999 - root_mean_squared_error: 2.3253 - mean_absolute_error: 1.9060 - val_loss: 2.2432 - val_root_mean_squared_error: 2.3231 - val_mean_absolute_error: 1.9039\n",
      "Epoch 117/120\n",
      "364/364 [==============================] - 0s 47us/step - loss: 2.1295 - root_mean_squared_error: 2.3193 - mean_absolute_error: 1.9001 - val_loss: 2.2437 - val_root_mean_squared_error: 2.3172 - val_mean_absolute_error: 1.8981\n",
      "Epoch 118/120\n",
      "364/364 [==============================] - 0s 47us/step - loss: 1.9438 - root_mean_squared_error: 2.3132 - mean_absolute_error: 1.8941 - val_loss: 2.2427 - val_root_mean_squared_error: 2.3110 - val_mean_absolute_error: 1.8920\n",
      "Epoch 119/120\n",
      "364/364 [==============================] - 0s 47us/step - loss: 1.9089 - root_mean_squared_error: 2.3069 - mean_absolute_error: 1.8879 - val_loss: 2.2449 - val_root_mean_squared_error: 2.3049 - val_mean_absolute_error: 1.8860\n",
      "Epoch 120/120\n",
      "364/364 [==============================] - 0s 47us/step - loss: 1.8757 - root_mean_squared_error: 2.3010 - mean_absolute_error: 1.8821 - val_loss: 2.2415 - val_root_mean_squared_error: 2.2989 - val_mean_absolute_error: 1.8801\n"
     ]
    }
   ],
   "source": [
    "history = model.fit([x_train['user_id'], x_train['side_info_user'],x_train['battery_id'],x_train['side_info_item']], y_train,\n",
    "                batch_size=batch_size,\n",
    "                epochs=epochs,\n",
    "                shuffle=True, \n",
    "                validation_split=0.25)"
   ]
  },
  {
   "cell_type": "code",
   "execution_count": 27,
   "metadata": {},
   "outputs": [],
   "source": [
    "import matplotlib.pyplot as plt"
   ]
  },
  {
   "cell_type": "code",
   "execution_count": 28,
   "metadata": {},
   "outputs": [
    {
     "data": {
      "text/plain": [
       "[<matplotlib.lines.Line2D at 0x28e5bbcd208>]"
      ]
     },
     "execution_count": 28,
     "metadata": {},
     "output_type": "execute_result"
    },
    {
     "data": {
      "image/png": "[encoded data removed]",
      "text/plain": [
       "<Figure size 432x288 with 1 Axes>"
      ]
     },
     "metadata": {
      "needs_background": "light"
     },
     "output_type": "display_data"
    }
   ],
   "source": [
    "plt.plot(history.epoch,history.history['loss'])\n",
    "plt.plot(history.epoch,history.history['val_loss'])"
   ]
  },
  {
   "cell_type": "code",
   "execution_count": 29,
   "metadata": {},
   "outputs": [
    {
     "name": "stdout",
     "output_type": "stream",
     "text": [
      "122/122 [==============================] - 0s 41us/step\n"
     ]
    },
    {
     "data": {
      "text/plain": [
       "[1.8817953633480384, 2.297883987426758, 1.8791282176971436]"
      ]
     },
     "execution_count": 29,
     "metadata": {},
     "output_type": "execute_result"
    }
   ],
   "source": [
    "model.evaluate([x_test['user_id'],x_test['side_info_user'],x_test['battery_id'],x_test['side_info_item']],y_test) #loss,rmse,mae"
   ]
  },
  {
   "cell_type": "code",
   "execution_count": 30,
   "metadata": {},
   "outputs": [],
   "source": [
    "y_hat = model.predict([x_test['user_id'],x_test['side_info_user'],x_test['battery_id'],x_test['side_info_item']])"
   ]
  },
  {
   "cell_type": "code",
   "execution_count": 31,
   "metadata": {},
   "outputs": [],
   "source": [
    "import numpy as np"
   ]
  },
  {
   "cell_type": "code",
   "execution_count": 32,
   "metadata": {},
   "outputs": [],
   "source": [
    "y_true = np.array(y_test.rating)"
   ]
  },
  {
   "cell_type": "markdown",
   "metadata": {},
   "source": [
    "# simple neural network"
   ]
  },
  {
   "cell_type": "code",
   "execution_count": 33,
   "metadata": {},
   "outputs": [],
   "source": [
    "user_input = Input(shape=(1,),name='user_input', dtype='int32')\n",
    "user_embedding = Embedding(151, latent_factors, name='user_embedding')(user_input)\n",
    "user_flat = Flatten(name='user_flat')(user_embedding)\n",
    "user_flat = Dropout(0.3)(user_flat)"
   ]
  },
  {
   "cell_type": "code",
   "execution_count": 34,
   "metadata": {},
   "outputs": [],
   "source": [
    "movie_input = Input(shape=(1,),name='movie_input', dtype='int32')\n",
    "movie_embedding = Embedding(40, latent_factors, name='movie_embedding')(movie_input)\n",
    "movie_flat = Flatten(name='movie_flat')(movie_embedding)\n",
    "movie_flat = Dropout(0.3)(movie_flat)"
   ]
  },
  {
   "cell_type": "code",
   "execution_count": 35,
   "metadata": {},
   "outputs": [],
   "source": [
    "product = dot([user_flat, movie_flat], name='product', axes=1)"
   ]
  },
  {
   "cell_type": "code",
   "execution_count": 36,
   "metadata": {},
   "outputs": [],
   "source": [
    "dense1 = Dense(512, activation='relu')(product)\n",
    "dense1 = Dropout(0.3)(dense1)\n",
    "dense2 = Dense(256, activation='relu')(dense1)\n",
    "dense2 = Dropout(0.3)(dense2)\n",
    "dense3 = Dense(128, activation='relu')(dense2)\n",
    "dense3 = Dropout(0.3)(dense3)\n",
    "dense4 = Dense(64, activation='relu')(dense3)\n",
    "dense_out = Dense(1, activation='relu')(dense4)"
   ]
  },
  {
   "cell_type": "code",
   "execution_count": 37,
   "metadata": {},
   "outputs": [],
   "source": [
    "model1 = Model([user_input, movie_input], dense_out)\n"
   ]
  },
  {
   "cell_type": "code",
   "execution_count": 38,
   "metadata": {},
   "outputs": [],
   "source": [
    "learning_rate = 0.00005\n",
    "epochs = 120\n",
    "batch_size = 256"
   ]
  },
  {
   "cell_type": "code",
   "execution_count": 39,
   "metadata": {},
   "outputs": [],
   "source": [
    "model1.compile(optimizer=Adam(lr=learning_rate), loss='mse', metrics=[tf.keras.metrics.RootMeanSquaredError(), tf.keras.metrics.MeanAbsoluteError()])"
   ]
  },
  {
   "cell_type": "code",
   "execution_count": 40,
   "metadata": {},
   "outputs": [
    {
     "name": "stderr",
     "output_type": "stream",
     "text": [
      "D:\\Anaconda3\\lib\\site-packages\\tensorflow_core\\python\\framework\\indexed_slices.py:424: UserWarning: Converting sparse IndexedSlices to a dense Tensor of unknown shape. This may consume a large amount of memory.\n",
      "  \"Converting sparse IndexedSlices to a dense Tensor of unknown shape. \"\n"
     ]
    },
    {
     "name": "stdout",
     "output_type": "stream",
     "text": [
      "Train on 364 samples, validate on 122 samples\n",
      "Epoch 1/120\n",
      "364/364 [==============================] - 0s 715us/step - loss: 9.3699 - root_mean_squared_error: 3.0707 - mean_absolute_error: 2.7741 - val_loss: 10.5090 - val_root_mean_squared_error: 3.1074 - val_mean_absolute_error: 2.7897\n",
      "Epoch 2/120\n",
      "364/364 [==============================] - 0s 38us/step - loss: 9.3628 - root_mean_squared_error: 3.0831 - mean_absolute_error: 2.7709 - val_loss: 10.5000 - val_root_mean_squared_error: 3.1068 - val_mean_absolute_error: 2.7890\n",
      "Epoch 3/120\n",
      "364/364 [==============================] - 0s 38us/step - loss: 9.3549 - root_mean_squared_error: 3.0938 - mean_absolute_error: 2.7797 - val_loss: 10.4901 - val_root_mean_squared_error: 3.1061 - val_mean_absolute_error: 2.7883\n",
      "Epoch 4/120\n",
      "364/364 [==============================] - 0s 36us/step - loss: 9.3461 - root_mean_squared_error: 3.0969 - mean_absolute_error: 2.7808 - val_loss: 10.4795 - val_root_mean_squared_error: 3.1054 - val_mean_absolute_error: 2.7875\n",
      "Epoch 5/120\n",
      "364/364 [==============================] - 0s 38us/step - loss: 9.3369 - root_mean_squared_error: 3.0992 - mean_absolute_error: 2.7826 - val_loss: 10.4685 - val_root_mean_squared_error: 3.1047 - val_mean_absolute_error: 2.7867\n",
      "Epoch 6/120\n",
      "364/364 [==============================] - 0s 36us/step - loss: 9.3267 - root_mean_squared_error: 3.0987 - mean_absolute_error: 2.7826 - val_loss: 10.4569 - val_root_mean_squared_error: 3.1039 - val_mean_absolute_error: 2.7858\n",
      "Epoch 7/120\n",
      "364/364 [==============================] - 0s 38us/step - loss: 9.3169 - root_mean_squared_error: 3.0992 - mean_absolute_error: 2.7821 - val_loss: 10.4449 - val_root_mean_squared_error: 3.1031 - val_mean_absolute_error: 2.7849\n",
      "Epoch 8/120\n",
      "364/364 [==============================] - 0s 38us/step - loss: 9.3062 - root_mean_squared_error: 3.0964 - mean_absolute_error: 2.7791 - val_loss: 10.4325 - val_root_mean_squared_error: 3.1023 - val_mean_absolute_error: 2.7840\n",
      "Epoch 9/120\n",
      "364/364 [==============================] - 0s 38us/step - loss: 9.2955 - root_mean_squared_error: 3.0983 - mean_absolute_error: 2.7811 - val_loss: 10.4196 - val_root_mean_squared_error: 3.1015 - val_mean_absolute_error: 2.7831\n",
      "Epoch 10/120\n",
      "364/364 [==============================] - 0s 38us/step - loss: 9.2857 - root_mean_squared_error: 3.1007 - mean_absolute_error: 2.7828 - val_loss: 10.4062 - val_root_mean_squared_error: 3.1006 - val_mean_absolute_error: 2.7822\n",
      "Epoch 11/120\n",
      "364/364 [==============================] - 0s 41us/step - loss: 9.2734 - root_mean_squared_error: 3.0985 - mean_absolute_error: 2.7808 - val_loss: 10.3924 - val_root_mean_squared_error: 3.0998 - val_mean_absolute_error: 2.7812\n",
      "Epoch 12/120\n",
      "364/364 [==============================] - 0s 38us/step - loss: 9.2602 - root_mean_squared_error: 3.0975 - mean_absolute_error: 2.7799 - val_loss: 10.3779 - val_root_mean_squared_error: 3.0989 - val_mean_absolute_error: 2.7802\n",
      "Epoch 13/120\n",
      "364/364 [==============================] - 0s 63us/step - loss: 9.2478 - root_mean_squared_error: 3.0957 - mean_absolute_error: 2.7772 - val_loss: 10.3628 - val_root_mean_squared_error: 3.0979 - val_mean_absolute_error: 2.7791\n",
      "Epoch 14/120\n",
      "364/364 [==============================] - 0s 41us/step - loss: 9.2364 - root_mean_squared_error: 3.0953 - mean_absolute_error: 2.7768 - val_loss: 10.3471 - val_root_mean_squared_error: 3.0970 - val_mean_absolute_error: 2.7781\n",
      "Epoch 15/120\n",
      "364/364 [==============================] - 0s 52us/step - loss: 9.2224 - root_mean_squared_error: 3.0956 - mean_absolute_error: 2.7771 - val_loss: 10.3307 - val_root_mean_squared_error: 3.0960 - val_mean_absolute_error: 2.7770\n",
      "Epoch 16/120\n",
      "364/364 [==============================] - 0s 36us/step - loss: 9.2050 - root_mean_squared_error: 3.0928 - mean_absolute_error: 2.7742 - val_loss: 10.3135 - val_root_mean_squared_error: 3.0950 - val_mean_absolute_error: 2.7758\n",
      "Epoch 17/120\n",
      "364/364 [==============================] - 0s 36us/step - loss: 9.1909 - root_mean_squared_error: 3.0930 - mean_absolute_error: 2.7741 - val_loss: 10.2955 - val_root_mean_squared_error: 3.0939 - val_mean_absolute_error: 2.7746\n",
      "Epoch 18/120\n",
      "364/364 [==============================] - 0s 38us/step - loss: 9.1733 - root_mean_squared_error: 3.0916 - mean_absolute_error: 2.7727 - val_loss: 10.2767 - val_root_mean_squared_error: 3.0928 - val_mean_absolute_error: 2.7734\n",
      "Epoch 19/120\n",
      "364/364 [==============================] - 0s 41us/step - loss: 9.1575 - root_mean_squared_error: 3.0905 - mean_absolute_error: 2.7715 - val_loss: 10.2569 - val_root_mean_squared_error: 3.0917 - val_mean_absolute_error: 2.7722\n",
      "Epoch 20/120\n",
      "364/364 [==============================] - 0s 38us/step - loss: 9.1400 - root_mean_squared_error: 3.0896 - mean_absolute_error: 2.7704 - val_loss: 10.2360 - val_root_mean_squared_error: 3.0905 - val_mean_absolute_error: 2.7709\n",
      "Epoch 21/120\n",
      "364/364 [==============================] - 0s 36us/step - loss: 9.1245 - root_mean_squared_error: 3.0874 - mean_absolute_error: 2.7680 - val_loss: 10.2142 - val_root_mean_squared_error: 3.0894 - val_mean_absolute_error: 2.7696\n",
      "Epoch 22/120\n",
      "364/364 [==============================] - 0s 38us/step - loss: 9.1078 - root_mean_squared_error: 3.0876 - mean_absolute_error: 2.7682 - val_loss: 10.1913 - val_root_mean_squared_error: 3.0881 - val_mean_absolute_error: 2.7682\n",
      "Epoch 23/120\n",
      "364/364 [==============================] - 0s 36us/step - loss: 9.0800 - root_mean_squared_error: 3.0863 - mean_absolute_error: 2.7665 - val_loss: 10.1672 - val_root_mean_squared_error: 3.0869 - val_mean_absolute_error: 2.7668\n",
      "Epoch 24/120\n",
      "364/364 [==============================] - 0s 38us/step - loss: 9.0605 - root_mean_squared_error: 3.0848 - mean_absolute_error: 2.7648 - val_loss: 10.1419 - val_root_mean_squared_error: 3.0855 - val_mean_absolute_error: 2.7653\n",
      "Epoch 25/120\n",
      "364/364 [==============================] - 0s 36us/step - loss: 9.0364 - root_mean_squared_error: 3.0837 - mean_absolute_error: 2.7637 - val_loss: 10.1153 - val_root_mean_squared_error: 3.0841 - val_mean_absolute_error: 2.7637\n",
      "Epoch 26/120\n",
      "364/364 [==============================] - 0s 38us/step - loss: 9.0164 - root_mean_squared_error: 3.0818 - mean_absolute_error: 2.7615 - val_loss: 10.0873 - val_root_mean_squared_error: 3.0827 - val_mean_absolute_error: 2.7622\n",
      "Epoch 27/120\n",
      "364/364 [==============================] - 0s 38us/step - loss: 8.9861 - root_mean_squared_error: 3.0812 - mean_absolute_error: 2.7608 - val_loss: 10.0580 - val_root_mean_squared_error: 3.0812 - val_mean_absolute_error: 2.7605\n",
      "Epoch 28/120\n",
      "364/364 [==============================] - 0s 38us/step - loss: 8.9639 - root_mean_squared_error: 3.0790 - mean_absolute_error: 2.7583 - val_loss: 10.0271 - val_root_mean_squared_error: 3.0797 - val_mean_absolute_error: 2.7588\n",
      "Epoch 29/120\n",
      "364/364 [==============================] - 0s 38us/step - loss: 8.9341 - root_mean_squared_error: 3.0776 - mean_absolute_error: 2.7568 - val_loss: 9.9947 - val_root_mean_squared_error: 3.0781 - val_mean_absolute_error: 2.7570\n",
      "Epoch 30/120\n",
      "364/364 [==============================] - 0s 38us/step - loss: 8.9051 - root_mean_squared_error: 3.0760 - mean_absolute_error: 2.7550 - val_loss: 9.9605 - val_root_mean_squared_error: 3.0765 - val_mean_absolute_error: 2.7551\n",
      "Epoch 31/120\n",
      "364/364 [==============================] - 0s 41us/step - loss: 8.8665 - root_mean_squared_error: 3.0745 - mean_absolute_error: 2.7532 - val_loss: 9.9245 - val_root_mean_squared_error: 3.0747 - val_mean_absolute_error: 2.7532\n",
      "Epoch 32/120\n",
      "364/364 [==============================] - 0s 38us/step - loss: 8.8414 - root_mean_squared_error: 3.0730 - mean_absolute_error: 2.7517 - val_loss: 9.8867 - val_root_mean_squared_error: 3.0729 - val_mean_absolute_error: 2.7512\n",
      "Epoch 33/120\n",
      "364/364 [==============================] - 0s 38us/step - loss: 8.8109 - root_mean_squared_error: 3.0708 - mean_absolute_error: 2.7491 - val_loss: 9.8470 - val_root_mean_squared_error: 3.0711 - val_mean_absolute_error: 2.7491\n",
      "Epoch 34/120\n",
      "364/364 [==============================] - 0s 38us/step - loss: 8.7713 - root_mean_squared_error: 3.0688 - mean_absolute_error: 2.7467 - val_loss: 9.8052 - val_root_mean_squared_error: 3.0692 - val_mean_absolute_error: 2.7469\n",
      "Epoch 35/120\n"
     ]
    },
    {
     "name": "stdout",
     "output_type": "stream",
     "text": [
      "364/364 [==============================] - 0s 41us/step - loss: 8.7403 - root_mean_squared_error: 3.0675 - mean_absolute_error: 2.7455 - val_loss: 9.7613 - val_root_mean_squared_error: 3.0672 - val_mean_absolute_error: 2.7447\n",
      "Epoch 36/120\n",
      "364/364 [==============================] - 0s 36us/step - loss: 8.6868 - root_mean_squared_error: 3.0648 - mean_absolute_error: 2.7423 - val_loss: 9.7153 - val_root_mean_squared_error: 3.0651 - val_mean_absolute_error: 2.7423\n",
      "Epoch 37/120\n",
      "364/364 [==============================] - 0s 41us/step - loss: 8.6445 - root_mean_squared_error: 3.0630 - mean_absolute_error: 2.7403 - val_loss: 9.6667 - val_root_mean_squared_error: 3.0629 - val_mean_absolute_error: 2.7399\n",
      "Epoch 38/120\n",
      "364/364 [==============================] - 0s 38us/step - loss: 8.6029 - root_mean_squared_error: 3.0606 - mean_absolute_error: 2.7375 - val_loss: 9.6157 - val_root_mean_squared_error: 3.0607 - val_mean_absolute_error: 2.7373\n",
      "Epoch 39/120\n",
      "364/364 [==============================] - 0s 36us/step - loss: 8.5663 - root_mean_squared_error: 3.0585 - mean_absolute_error: 2.7352 - val_loss: 9.5624 - val_root_mean_squared_error: 3.0584 - val_mean_absolute_error: 2.7347\n",
      "Epoch 40/120\n",
      "364/364 [==============================] - 0s 36us/step - loss: 8.5095 - root_mean_squared_error: 3.0562 - mean_absolute_error: 2.7324 - val_loss: 9.5066 - val_root_mean_squared_error: 3.0560 - val_mean_absolute_error: 2.7319\n",
      "Epoch 41/120\n",
      "364/364 [==============================] - 0s 38us/step - loss: 8.4473 - root_mean_squared_error: 3.0535 - mean_absolute_error: 2.7295 - val_loss: 9.4478 - val_root_mean_squared_error: 3.0534 - val_mean_absolute_error: 2.7290\n",
      "Epoch 42/120\n",
      "364/364 [==============================] - 0s 38us/step - loss: 8.3935 - root_mean_squared_error: 3.0511 - mean_absolute_error: 2.7266 - val_loss: 9.3861 - val_root_mean_squared_error: 3.0507 - val_mean_absolute_error: 2.7260\n",
      "Epoch 43/120\n",
      "364/364 [==============================] - 0s 36us/step - loss: 8.3322 - root_mean_squared_error: 3.0483 - mean_absolute_error: 2.7236 - val_loss: 9.3216 - val_root_mean_squared_error: 3.0480 - val_mean_absolute_error: 2.7229\n",
      "Epoch 44/120\n",
      "364/364 [==============================] - 0s 36us/step - loss: 8.2941 - root_mean_squared_error: 3.0456 - mean_absolute_error: 2.7204 - val_loss: 9.2542 - val_root_mean_squared_error: 3.0452 - val_mean_absolute_error: 2.7196\n",
      "Epoch 45/120\n",
      "364/364 [==============================] - 0s 36us/step - loss: 8.2099 - root_mean_squared_error: 3.0427 - mean_absolute_error: 2.7170 - val_loss: 9.1837 - val_root_mean_squared_error: 3.0422 - val_mean_absolute_error: 2.7162\n",
      "Epoch 46/120\n",
      "364/364 [==============================] - 0s 36us/step - loss: 8.1405 - root_mean_squared_error: 3.0394 - mean_absolute_error: 2.7133 - val_loss: 9.1101 - val_root_mean_squared_error: 3.0391 - val_mean_absolute_error: 2.7127\n",
      "Epoch 47/120\n",
      "364/364 [==============================] - 0s 38us/step - loss: 8.0827 - root_mean_squared_error: 3.0366 - mean_absolute_error: 2.7101 - val_loss: 9.0335 - val_root_mean_squared_error: 3.0358 - val_mean_absolute_error: 2.7090\n",
      "Epoch 48/120\n",
      "364/364 [==============================] - 0s 38us/step - loss: 8.0181 - root_mean_squared_error: 3.0331 - mean_absolute_error: 2.7060 - val_loss: 8.9538 - val_root_mean_squared_error: 3.0325 - val_mean_absolute_error: 2.7051\n",
      "Epoch 49/120\n",
      "364/364 [==============================] - 0s 36us/step - loss: 7.9461 - root_mean_squared_error: 3.0297 - mean_absolute_error: 2.7021 - val_loss: 8.8709 - val_root_mean_squared_error: 3.0291 - val_mean_absolute_error: 2.7012\n",
      "Epoch 50/120\n",
      "364/364 [==============================] - 0s 36us/step - loss: 7.8617 - root_mean_squared_error: 3.0263 - mean_absolute_error: 2.6981 - val_loss: 8.7845 - val_root_mean_squared_error: 3.0255 - val_mean_absolute_error: 2.6971\n",
      "Epoch 51/120\n",
      "364/364 [==============================] - 0s 36us/step - loss: 7.7753 - root_mean_squared_error: 3.0225 - mean_absolute_error: 2.6938 - val_loss: 8.6943 - val_root_mean_squared_error: 3.0218 - val_mean_absolute_error: 2.6927\n",
      "Epoch 52/120\n",
      "364/364 [==============================] - 0s 36us/step - loss: 7.7073 - root_mean_squared_error: 3.0189 - mean_absolute_error: 2.6895 - val_loss: 8.6006 - val_root_mean_squared_error: 3.0180 - val_mean_absolute_error: 2.6883\n",
      "Epoch 53/120\n",
      "364/364 [==============================] - 0s 36us/step - loss: 7.6199 - root_mean_squared_error: 3.0147 - mean_absolute_error: 2.6846 - val_loss: 8.5033 - val_root_mean_squared_error: 3.0140 - val_mean_absolute_error: 2.6836\n",
      "Epoch 54/120\n",
      "364/364 [==============================] - 0s 33us/step - loss: 7.4954 - root_mean_squared_error: 3.0110 - mean_absolute_error: 2.6801 - val_loss: 8.4020 - val_root_mean_squared_error: 3.0099 - val_mean_absolute_error: 2.6787\n",
      "Epoch 55/120\n",
      "364/364 [==============================] - 0s 36us/step - loss: 7.4162 - root_mean_squared_error: 3.0066 - mean_absolute_error: 2.6750 - val_loss: 8.2967 - val_root_mean_squared_error: 3.0056 - val_mean_absolute_error: 2.6737\n",
      "Epoch 56/120\n",
      "364/364 [==============================] - 0s 36us/step - loss: 7.2990 - root_mean_squared_error: 3.0024 - mean_absolute_error: 2.6701 - val_loss: 8.1866 - val_root_mean_squared_error: 3.0011 - val_mean_absolute_error: 2.6684\n",
      "Epoch 57/120\n",
      "364/364 [==============================] - 0s 36us/step - loss: 7.2379 - root_mean_squared_error: 2.9976 - mean_absolute_error: 2.6645 - val_loss: 8.0730 - val_root_mean_squared_error: 2.9965 - val_mean_absolute_error: 2.6630\n",
      "Epoch 58/120\n",
      "364/364 [==============================] - 0s 33us/step - loss: 7.1177 - root_mean_squared_error: 2.9931 - mean_absolute_error: 2.6592 - val_loss: 7.9556 - val_root_mean_squared_error: 2.9917 - val_mean_absolute_error: 2.6574\n",
      "Epoch 59/120\n",
      "364/364 [==============================] - 0s 36us/step - loss: 7.0279 - root_mean_squared_error: 2.9880 - mean_absolute_error: 2.6530 - val_loss: 7.8346 - val_root_mean_squared_error: 2.9869 - val_mean_absolute_error: 2.6515\n",
      "Epoch 60/120\n",
      "364/364 [==============================] - 0s 36us/step - loss: 6.9162 - root_mean_squared_error: 2.9834 - mean_absolute_error: 2.6475 - val_loss: 7.7097 - val_root_mean_squared_error: 2.9818 - val_mean_absolute_error: 2.6454\n",
      "Epoch 61/120\n",
      "364/364 [==============================] - 0s 36us/step - loss: 6.7912 - root_mean_squared_error: 2.9782 - mean_absolute_error: 2.6412 - val_loss: 7.5813 - val_root_mean_squared_error: 2.9766 - val_mean_absolute_error: 2.6391\n",
      "Epoch 62/120\n",
      "364/364 [==============================] - 0s 36us/step - loss: 6.6543 - root_mean_squared_error: 2.9728 - mean_absolute_error: 2.6348 - val_loss: 7.4491 - val_root_mean_squared_error: 2.9712 - val_mean_absolute_error: 2.6326\n",
      "Epoch 63/120\n",
      "364/364 [==============================] - 0s 36us/step - loss: 6.5491 - root_mean_squared_error: 2.9673 - mean_absolute_error: 2.6280 - val_loss: 7.3135 - val_root_mean_squared_error: 2.9656 - val_mean_absolute_error: 2.6257\n",
      "Epoch 64/120\n",
      "364/364 [==============================] - 0s 36us/step - loss: 6.3985 - root_mean_squared_error: 2.9615 - mean_absolute_error: 2.6209 - val_loss: 7.1744 - val_root_mean_squared_error: 2.9598 - val_mean_absolute_error: 2.6186\n",
      "Epoch 65/120\n",
      "364/364 [==============================] - 0s 36us/step - loss: 6.2715 - root_mean_squared_error: 2.9556 - mean_absolute_error: 2.6136 - val_loss: 7.0314 - val_root_mean_squared_error: 2.9538 - val_mean_absolute_error: 2.6113\n",
      "Epoch 66/120\n",
      "364/364 [==============================] - 0s 36us/step - loss: 6.1499 - root_mean_squared_error: 2.9498 - mean_absolute_error: 2.6066 - val_loss: 6.8849 - val_root_mean_squared_error: 2.9477 - val_mean_absolute_error: 2.6037\n",
      "Epoch 67/120\n",
      "364/364 [==============================] - ETA: 0s - loss: 5.9447 - root_mean_squared_error: 2.9440 - mean_absolute_error: 2.599 - 0s 33us/step - loss: 6.0138 - root_mean_squared_error: 2.9433 - mean_absolute_error: 2.5984 - val_loss: 6.7356 - val_root_mean_squared_error: 2.9413 - val_mean_absolute_error: 2.5958\n",
      "Epoch 68/120\n",
      "364/364 [==============================] - 0s 36us/step - loss: 5.8770 - root_mean_squared_error: 2.9368 - mean_absolute_error: 2.5903 - val_loss: 6.5831 - val_root_mean_squared_error: 2.9348 - val_mean_absolute_error: 2.5877\n"
     ]
    },
    {
     "name": "stdout",
     "output_type": "stream",
     "text": [
      "Epoch 69/120\n",
      "364/364 [==============================] - 0s 36us/step - loss: 5.7249 - root_mean_squared_error: 2.9303 - mean_absolute_error: 2.5821 - val_loss: 6.4275 - val_root_mean_squared_error: 2.9281 - val_mean_absolute_error: 2.5792\n",
      "Epoch 70/120\n",
      "364/364 [==============================] - 0s 38us/step - loss: 5.5501 - root_mean_squared_error: 2.9234 - mean_absolute_error: 2.5734 - val_loss: 6.2686 - val_root_mean_squared_error: 2.9212 - val_mean_absolute_error: 2.5705\n",
      "Epoch 71/120\n",
      "364/364 [==============================] - 0s 36us/step - loss: 5.3731 - root_mean_squared_error: 2.9163 - mean_absolute_error: 2.5645 - val_loss: 6.1076 - val_root_mean_squared_error: 2.9140 - val_mean_absolute_error: 2.5613\n",
      "Epoch 72/120\n",
      "364/364 [==============================] - 0s 36us/step - loss: 5.2941 - root_mean_squared_error: 2.9091 - mean_absolute_error: 2.5552 - val_loss: 5.9447 - val_root_mean_squared_error: 2.9068 - val_mean_absolute_error: 2.5521\n",
      "Epoch 73/120\n",
      "364/364 [==============================] - 0s 33us/step - loss: 5.1468 - root_mean_squared_error: 2.9017 - mean_absolute_error: 2.5457 - val_loss: 5.7802 - val_root_mean_squared_error: 2.8993 - val_mean_absolute_error: 2.5426\n",
      "Epoch 74/120\n",
      "364/364 [==============================] - 0s 33us/step - loss: 4.9348 - root_mean_squared_error: 2.8942 - mean_absolute_error: 2.5363 - val_loss: 5.6137 - val_root_mean_squared_error: 2.8916 - val_mean_absolute_error: 2.5328\n",
      "Epoch 75/120\n",
      "364/364 [==============================] - 0s 33us/step - loss: 4.8383 - root_mean_squared_error: 2.8865 - mean_absolute_error: 2.5264 - val_loss: 5.4468 - val_root_mean_squared_error: 2.8839 - val_mean_absolute_error: 2.5229\n",
      "Epoch 76/120\n",
      "364/364 [==============================] - 0s 36us/step - loss: 4.7014 - root_mean_squared_error: 2.8786 - mean_absolute_error: 2.5163 - val_loss: 5.2797 - val_root_mean_squared_error: 2.8759 - val_mean_absolute_error: 2.5129\n",
      "Epoch 77/120\n",
      "364/364 [==============================] - 0s 36us/step - loss: 4.5339 - root_mean_squared_error: 2.8707 - mean_absolute_error: 2.5064 - val_loss: 5.1125 - val_root_mean_squared_error: 2.8678 - val_mean_absolute_error: 2.5027\n",
      "Epoch 78/120\n",
      "364/364 [==============================] - 0s 47us/step - loss: 4.3480 - root_mean_squared_error: 2.8624 - mean_absolute_error: 2.4961 - val_loss: 4.9462 - val_root_mean_squared_error: 2.8595 - val_mean_absolute_error: 2.4923\n",
      "Epoch 79/120\n",
      "364/364 [==============================] - 0s 36us/step - loss: 4.2104 - root_mean_squared_error: 2.8539 - mean_absolute_error: 2.4854 - val_loss: 4.7819 - val_root_mean_squared_error: 2.8510 - val_mean_absolute_error: 2.4818\n",
      "Epoch 80/120\n",
      "364/364 [==============================] - 0s 36us/step - loss: 4.0798 - root_mean_squared_error: 2.8452 - mean_absolute_error: 2.4748 - val_loss: 4.6188 - val_root_mean_squared_error: 2.8424 - val_mean_absolute_error: 2.4714\n",
      "Epoch 81/120\n",
      "364/364 [==============================] - 0s 36us/step - loss: 3.8953 - root_mean_squared_error: 2.8365 - mean_absolute_error: 2.4642 - val_loss: 4.4566 - val_root_mean_squared_error: 2.8336 - val_mean_absolute_error: 2.4608\n",
      "Epoch 82/120\n",
      "364/364 [==============================] - 0s 33us/step - loss: 3.7491 - root_mean_squared_error: 2.8278 - mean_absolute_error: 2.4537 - val_loss: 4.2961 - val_root_mean_squared_error: 2.8247 - val_mean_absolute_error: 2.4500\n",
      "Epoch 83/120\n",
      "364/364 [==============================] - 0s 33us/step - loss: 3.7045 - root_mean_squared_error: 2.8188 - mean_absolute_error: 2.4428 - val_loss: 4.1395 - val_root_mean_squared_error: 2.8158 - val_mean_absolute_error: 2.4393\n",
      "Epoch 84/120\n",
      "364/364 [==============================] - 0s 36us/step - loss: 3.5035 - root_mean_squared_error: 2.8097 - mean_absolute_error: 2.4320 - val_loss: 3.9856 - val_root_mean_squared_error: 2.8067 - val_mean_absolute_error: 2.4285\n",
      "Epoch 85/120\n",
      "364/364 [==============================] - 0s 33us/step - loss: 3.3276 - root_mean_squared_error: 2.8006 - mean_absolute_error: 2.4212 - val_loss: 3.8346 - val_root_mean_squared_error: 2.7974 - val_mean_absolute_error: 2.4174\n",
      "Epoch 86/120\n",
      "364/364 [==============================] - 0s 33us/step - loss: 3.1729 - root_mean_squared_error: 2.7912 - mean_absolute_error: 2.4100 - val_loss: 3.6885 - val_root_mean_squared_error: 2.7880 - val_mean_absolute_error: 2.4062\n",
      "Epoch 87/120\n",
      "364/364 [==============================] - 0s 36us/step - loss: 3.0815 - root_mean_squared_error: 2.7817 - mean_absolute_error: 2.3988 - val_loss: 3.5475 - val_root_mean_squared_error: 2.7785 - val_mean_absolute_error: 2.3950\n",
      "Epoch 88/120\n",
      "364/364 [==============================] - 0s 33us/step - loss: 2.9553 - root_mean_squared_error: 2.7723 - mean_absolute_error: 2.3876 - val_loss: 3.4119 - val_root_mean_squared_error: 2.7690 - val_mean_absolute_error: 2.3837\n",
      "Epoch 89/120\n",
      "364/364 [==============================] - 0s 36us/step - loss: 2.8082 - root_mean_squared_error: 2.7628 - mean_absolute_error: 2.3763 - val_loss: 3.2835 - val_root_mean_squared_error: 2.7594 - val_mean_absolute_error: 2.3722\n",
      "Epoch 90/120\n",
      "364/364 [==============================] - 0s 38us/step - loss: 2.7223 - root_mean_squared_error: 2.7531 - mean_absolute_error: 2.3645 - val_loss: 3.1624 - val_root_mean_squared_error: 2.7497 - val_mean_absolute_error: 2.3606\n",
      "Epoch 91/120\n",
      "364/364 [==============================] - 0s 36us/step - loss: 2.5904 - root_mean_squared_error: 2.7434 - mean_absolute_error: 2.3530 - val_loss: 3.0480 - val_root_mean_squared_error: 2.7400 - val_mean_absolute_error: 2.3490\n",
      "Epoch 92/120\n",
      "364/364 [==============================] - 0s 36us/step - loss: 2.5474 - root_mean_squared_error: 2.7338 - mean_absolute_error: 2.3416 - val_loss: 2.9414 - val_root_mean_squared_error: 2.7303 - val_mean_absolute_error: 2.3375\n",
      "Epoch 93/120\n",
      "364/364 [==============================] - 0s 36us/step - loss: 2.3812 - root_mean_squared_error: 2.7239 - mean_absolute_error: 2.3298 - val_loss: 2.8420 - val_root_mean_squared_error: 2.7206 - val_mean_absolute_error: 2.3259\n",
      "Epoch 94/120\n",
      "364/364 [==============================] - 0s 36us/step - loss: 2.3373 - root_mean_squared_error: 2.7143 - mean_absolute_error: 2.3185 - val_loss: 2.7505 - val_root_mean_squared_error: 2.7108 - val_mean_absolute_error: 2.3145\n",
      "Epoch 95/120\n",
      "364/364 [==============================] - 0s 36us/step - loss: 2.2655 - root_mean_squared_error: 2.7045 - mean_absolute_error: 2.3070 - val_loss: 2.6670 - val_root_mean_squared_error: 2.7012 - val_mean_absolute_error: 2.3033\n",
      "Epoch 96/120\n",
      "364/364 [==============================] - 0s 33us/step - loss: 2.2043 - root_mean_squared_error: 2.6949 - mean_absolute_error: 2.2960 - val_loss: 2.5906 - val_root_mean_squared_error: 2.6915 - val_mean_absolute_error: 2.2921\n",
      "Epoch 97/120\n",
      "364/364 [==============================] - 0s 36us/step - loss: 2.0872 - root_mean_squared_error: 2.6851 - mean_absolute_error: 2.2846 - val_loss: 2.5219 - val_root_mean_squared_error: 2.6818 - val_mean_absolute_error: 2.2810\n",
      "Epoch 98/120\n",
      "364/364 [==============================] - 0s 36us/step - loss: 2.0733 - root_mean_squared_error: 2.6756 - mean_absolute_error: 2.2738 - val_loss: 2.4606 - val_root_mean_squared_error: 2.6723 - val_mean_absolute_error: 2.2701\n",
      "Epoch 99/120\n",
      "364/364 [==============================] - 0s 36us/step - loss: 2.0527 - root_mean_squared_error: 2.6661 - mean_absolute_error: 2.2631 - val_loss: 2.4075 - val_root_mean_squared_error: 2.6628 - val_mean_absolute_error: 2.2595\n",
      "Epoch 100/120\n",
      "364/364 [==============================] - 0s 33us/step - loss: 2.0170 - root_mean_squared_error: 2.6567 - mean_absolute_error: 2.2526 - val_loss: 2.3612 - val_root_mean_squared_error: 2.6534 - val_mean_absolute_error: 2.2490\n",
      "Epoch 101/120\n",
      "364/364 [==============================] - 0s 36us/step - loss: 1.9008 - root_mean_squared_error: 2.6473 - mean_absolute_error: 2.2420 - val_loss: 2.3217 - val_root_mean_squared_error: 2.6440 - val_mean_absolute_error: 2.2384\n",
      "Epoch 102/120\n",
      "364/364 [==============================] - 0s 38us/step - loss: 1.9257 - root_mean_squared_error: 2.6380 - mean_absolute_error: 2.2316 - val_loss: 2.2885 - val_root_mean_squared_error: 2.6348 - val_mean_absolute_error: 2.2282\n",
      "Epoch 103/120\n"
     ]
    },
    {
     "name": "stdout",
     "output_type": "stream",
     "text": [
      "364/364 [==============================] - 0s 38us/step - loss: 1.9496 - root_mean_squared_error: 2.6288 - mean_absolute_error: 2.2215 - val_loss: 2.2605 - val_root_mean_squared_error: 2.6257 - val_mean_absolute_error: 2.2183\n",
      "Epoch 104/120\n",
      "364/364 [==============================] - 0s 36us/step - loss: 1.9827 - root_mean_squared_error: 2.6199 - mean_absolute_error: 2.2119 - val_loss: 2.2374 - val_root_mean_squared_error: 2.6168 - val_mean_absolute_error: 2.2086\n",
      "Epoch 105/120\n",
      "364/364 [==============================] - 0s 33us/step - loss: 1.9099 - root_mean_squared_error: 2.6111 - mean_absolute_error: 2.2024 - val_loss: 2.2187 - val_root_mean_squared_error: 2.6079 - val_mean_absolute_error: 2.1991\n",
      "Epoch 106/120\n",
      "364/364 [==============================] - 0s 36us/step - loss: 1.9080 - root_mean_squared_error: 2.6022 - mean_absolute_error: 2.1928 - val_loss: 2.2036 - val_root_mean_squared_error: 2.5992 - val_mean_absolute_error: 2.1896\n",
      "Epoch 107/120\n",
      "364/364 [==============================] - 0s 36us/step - loss: 1.9180 - root_mean_squared_error: 2.5936 - mean_absolute_error: 2.1836 - val_loss: 2.1914 - val_root_mean_squared_error: 2.5906 - val_mean_absolute_error: 2.1805\n",
      "Epoch 108/120\n",
      "364/364 [==============================] - 0s 36us/step - loss: 1.8608 - root_mean_squared_error: 2.5851 - mean_absolute_error: 2.1744 - val_loss: 2.1819 - val_root_mean_squared_error: 2.5821 - val_mean_absolute_error: 2.1712\n",
      "Epoch 109/120\n",
      "364/364 [==============================] - 0s 36us/step - loss: 1.8885 - root_mean_squared_error: 2.5767 - mean_absolute_error: 2.1654 - val_loss: 2.1744 - val_root_mean_squared_error: 2.5737 - val_mean_absolute_error: 2.1623\n",
      "Epoch 110/120\n",
      "364/364 [==============================] - 0s 33us/step - loss: 1.8512 - root_mean_squared_error: 2.5683 - mean_absolute_error: 2.1564 - val_loss: 2.1685 - val_root_mean_squared_error: 2.5654 - val_mean_absolute_error: 2.1534\n",
      "Epoch 111/120\n",
      "364/364 [==============================] - 0s 36us/step - loss: 1.8298 - root_mean_squared_error: 2.5600 - mean_absolute_error: 2.1475 - val_loss: 2.1637 - val_root_mean_squared_error: 2.5572 - val_mean_absolute_error: 2.1446\n",
      "Epoch 112/120\n",
      "364/364 [==============================] - 0s 38us/step - loss: 1.8896 - root_mean_squared_error: 2.5520 - mean_absolute_error: 2.1391 - val_loss: 2.1604 - val_root_mean_squared_error: 2.5492 - val_mean_absolute_error: 2.1362\n",
      "Epoch 113/120\n",
      "364/364 [==============================] - 0s 36us/step - loss: 1.8070 - root_mean_squared_error: 2.5439 - mean_absolute_error: 2.1306 - val_loss: 2.1581 - val_root_mean_squared_error: 2.5412 - val_mean_absolute_error: 2.1278\n",
      "Epoch 114/120\n",
      "364/364 [==============================] - 0s 33us/step - loss: 1.8065 - root_mean_squared_error: 2.5360 - mean_absolute_error: 2.1222 - val_loss: 2.1563 - val_root_mean_squared_error: 2.5333 - val_mean_absolute_error: 2.1194\n",
      "Epoch 115/120\n",
      "364/364 [==============================] - 0s 36us/step - loss: 1.9032 - root_mean_squared_error: 2.5284 - mean_absolute_error: 2.1142 - val_loss: 2.1549 - val_root_mean_squared_error: 2.5256 - val_mean_absolute_error: 2.1114\n",
      "Epoch 116/120\n",
      "364/364 [==============================] - 0s 36us/step - loss: 1.9572 - root_mean_squared_error: 2.5208 - mean_absolute_error: 2.1063 - val_loss: 2.1540 - val_root_mean_squared_error: 2.5182 - val_mean_absolute_error: 2.1036\n",
      "Epoch 117/120\n",
      "364/364 [==============================] - 0s 36us/step - loss: 1.9262 - root_mean_squared_error: 2.5133 - mean_absolute_error: 2.0985 - val_loss: 2.1534 - val_root_mean_squared_error: 2.5108 - val_mean_absolute_error: 2.0959\n",
      "Epoch 118/120\n",
      "364/364 [==============================] - 0s 33us/step - loss: 2.0515 - root_mean_squared_error: 2.5062 - mean_absolute_error: 2.0912 - val_loss: 2.1534 - val_root_mean_squared_error: 2.5036 - val_mean_absolute_error: 2.0886\n",
      "Epoch 119/120\n",
      "364/364 [==============================] - 0s 36us/step - loss: 1.8945 - root_mean_squared_error: 2.4990 - mean_absolute_error: 2.0837 - val_loss: 2.1538 - val_root_mean_squared_error: 2.4964 - val_mean_absolute_error: 2.0812\n",
      "Epoch 120/120\n",
      "364/364 [==============================] - 0s 36us/step - loss: 1.7950 - root_mean_squared_error: 2.4916 - mean_absolute_error: 2.0761 - val_loss: 2.1544 - val_root_mean_squared_error: 2.4891 - val_mean_absolute_error: 2.0736\n"
     ]
    }
   ],
   "source": [
    "fit = model1.fit([x_train['user_id'], x_train['battery_id']], y_train,\n",
    "                batch_size=batch_size,\n",
    "                epochs=epochs,\n",
    "                shuffle=True, \n",
    "                validation_split=0.25)"
   ]
  },
  {
   "cell_type": "code",
   "execution_count": 41,
   "metadata": {},
   "outputs": [
    {
     "data": {
      "text/plain": [
       "<matplotlib.legend.Legend at 0x28e621edc88>"
      ]
     },
     "execution_count": 41,
     "metadata": {},
     "output_type": "execute_result"
    },
    {
     "data": {
      "image/png": "[encoded data removed]",
      "text/plain": [
       "<Figure size 432x288 with 1 Axes>"
      ]
     },
     "metadata": {
      "needs_background": "light"
     },
     "output_type": "display_data"
    }
   ],
   "source": [
    "plt.plot(history.epoch,history.history['loss'],label='side_loss')\n",
    "plt.plot(history.epoch,history.history['val_loss'],label='side_val_loss')\n",
    "plt.plot(fit.epoch,fit.history['loss'],label='simple_loss')\n",
    "plt.plot(fit.epoch,fit.history['val_loss'],label='simple_val_loss')\n",
    "plt.legend()"
   ]
  },
  {
   "cell_type": "code",
   "execution_count": 42,
   "metadata": {},
   "outputs": [
    {
     "name": "stdout",
     "output_type": "stream",
     "text": [
      "122/122 [==============================] - 0s 49us/step\n"
     ]
    },
    {
     "data": {
      "text/plain": [
       "[1.8817953633480384, 2.296342134475708, 1.8775705099105835]"
      ]
     },
     "execution_count": 42,
     "metadata": {},
     "output_type": "execute_result"
    }
   ],
   "source": [
    "model.evaluate([x_test['user_id'],x_test['side_info_user'],x_test['battery_id'],x_test['side_info_item']],y_test)\n",
    "#loss,rmse,mae"
   ]
  },
  {
   "cell_type": "code",
   "execution_count": 43,
   "metadata": {},
   "outputs": [
    {
     "name": "stdout",
     "output_type": "stream",
     "text": [
      "486/486 [==============================] - 0s 27us/step\n"
     ]
    },
    {
     "data": {
      "text/plain": [
       "[1.8713178276525113, 2.48502779006958, 2.06929612159729]"
      ]
     },
     "execution_count": 43,
     "metadata": {},
     "output_type": "execute_result"
    }
   ],
   "source": [
    "model1.evaluate([x_train['user_id'], x_train['battery_id']], y_train)"
   ]
  },
  {
   "cell_type": "code",
   "execution_count": null,
   "metadata": {},
   "outputs": [],
   "source": []
  }
 ],
 "metadata": {
  "kernelspec": {
   "display_name": "Python 3",
   "language": "python",
   "name": "python3"
  },
  "language_info": {
   "codemirror_mode": {
    "name": "ipython",
    "version": 3
   },
   "file_extension": ".py",
   "mimetype": "text/x-python",
   "name": "python",
   "nbconvert_exporter": "python",
   "pygments_lexer": "ipython3",
   "version": "3.7.6"
  }
 },
 "nbformat": 4,
 "nbformat_minor": 4
}
